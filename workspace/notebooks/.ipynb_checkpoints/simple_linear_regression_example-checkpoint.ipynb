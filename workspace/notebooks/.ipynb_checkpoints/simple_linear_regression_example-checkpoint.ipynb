{
 "cells": [
  {
   "cell_type": "markdown",
   "id": "f51e5e3a-d8ed-4550-8f5b-287f05a479d1",
   "metadata": {},
   "source": [
    "# Imports\n",
    "\n",
    "Import the wheel containinf the parser class."
   ]
  },
  {
   "cell_type": "code",
   "execution_count": 49,
   "id": "ebb363fe-bce5-4f5b-88dc-c6007c9fc25d",
   "metadata": {},
   "outputs": [],
   "source": [
    "import matplotlib.pyplot as plt\n",
    "import numpy as np\n",
    "\n",
    "import pandas as pd\n",
    "\n",
    "from sklearn.preprocessing import power_transform\n",
    "from sklearn.model_selection import train_test_split\n",
    "from sklearn.pipeline import Pipeline\n",
    "from sklearn.preprocessing import PowerTransformer\n",
    "from sklearn.preprocessing import StandardScaler\n",
    "from sklearn.linear_model import LinearRegression\n",
    "\n",
    "from utils.fetcher import Fetcher as f\n",
    "from utils.museum import Museum\n",
    "from enricher import Enricher as e"
   ]
  },
  {
   "cell_type": "markdown",
   "id": "86d54c6d-8922-4096-bde4-5c1d783172d8",
   "metadata": {},
   "source": [
    "# Fetch the Dataframe Using the Parser Class\n",
    "The parser will fetch a collection of Wikipedia data and dump it into a Dataframe for easier use by a Data Scientist. Once this step is completed there no further use for the parser.\n",
    "\n",
    "The ```fetch_museum_data method``` will take a ```minimum_visitors``` argument that filters the list of museums returned (to those with a visitors value meeting or exceeding the parameter value).  Use this to scope the query.\n",
    "\n",
    "NOTE: This is a relatively slow process - since the parser is crawling the Wikipedia page's museum and city links.  "
   ]
  },
  {
   "cell_type": "code",
   "execution_count": 50,
   "id": "afb1f9cb-22b2-4f7b-882a-a532b7a7ce14",
   "metadata": {},
   "outputs": [],
   "source": [
    "# parser = MuseumParser()\n",
    "# museum_df = parser.fetch_museum_data()"
   ]
  },
  {
   "cell_type": "markdown",
   "id": "92489d0a-1750-4350-9cb5-313b0dcd9e56",
   "metadata": {},
   "source": [
    "# Or ... Fetch the Dataframe From a CSV Compiled Previously\n",
    "The 'run_job' script in the Parser container runs the code in the cell above and dumps the CVS to a file on disk.  To speed things up a bit we can just relaod a previoulsy parsed set of Wikipedia data."
   ]
  },
  {
   "cell_type": "code",
   "execution_count": 101,
   "id": "186c9e09-bdbe-4334-a254-ecb3319c5ff5",
   "metadata": {},
   "outputs": [],
   "source": [
    "filename = '../data/museum_data_265377.csv'\n",
    "museum_df = pd.read_csv(filename, sep='\\t')"
   ]
  },
  {
   "cell_type": "code",
   "execution_count": 102,
   "id": "bbd18920-3d47-4e1f-8eb6-4c1874e2e06b",
   "metadata": {},
   "outputs": [
    {
     "data": {
      "text/html": [
       "<div>\n",
       "<style scoped>\n",
       "    .dataframe tbody tr th:only-of-type {\n",
       "        vertical-align: middle;\n",
       "    }\n",
       "\n",
       "    .dataframe tbody tr th {\n",
       "        vertical-align: top;\n",
       "    }\n",
       "\n",
       "    .dataframe thead th {\n",
       "        text-align: right;\n",
       "    }\n",
       "</style>\n",
       "<table border=\"1\" class=\"dataframe\">\n",
       "  <thead>\n",
       "    <tr style=\"text-align: right;\">\n",
       "      <th></th>\n",
       "      <th>Unnamed: 0</th>\n",
       "      <th>name</th>\n",
       "      <th>wiki</th>\n",
       "      <th>city</th>\n",
       "      <th>city_wiki</th>\n",
       "      <th>country</th>\n",
       "      <th>country_wiki</th>\n",
       "      <th>visitors</th>\n",
       "      <th>city_population</th>\n",
       "      <th>urban_population</th>\n",
       "      <th>longitude</th>\n",
       "      <th>latitude</th>\n",
       "      <th>museum_type</th>\n",
       "    </tr>\n",
       "  </thead>\n",
       "  <tbody>\n",
       "    <tr>\n",
       "      <th>0</th>\n",
       "      <td>0</td>\n",
       "      <td>Louvre</td>\n",
       "      <td>Louvre</td>\n",
       "      <td>Paris</td>\n",
       "      <td>Paris</td>\n",
       "      <td>France</td>\n",
       "      <td>France</td>\n",
       "      <td>7726321</td>\n",
       "      <td>2102650</td>\n",
       "      <td>10858852.0</td>\n",
       "      <td>NaN</td>\n",
       "      <td>NaN</td>\n",
       "      <td>Art museum and historic site</td>\n",
       "    </tr>\n",
       "    <tr>\n",
       "      <th>1</th>\n",
       "      <td>1</td>\n",
       "      <td>Vatican Museums</td>\n",
       "      <td>Vatican_Museums</td>\n",
       "      <td>Vatican City</td>\n",
       "      <td>Vatican_City</td>\n",
       "      <td>Vatican City</td>\n",
       "      <td>Vatican_City</td>\n",
       "      <td>5080866</td>\n",
       "      <td>764</td>\n",
       "      <td>NaN</td>\n",
       "      <td>41.90639</td>\n",
       "      <td>12.45444</td>\n",
       "      <td>Art museum</td>\n",
       "    </tr>\n",
       "    <tr>\n",
       "      <th>2</th>\n",
       "      <td>2</td>\n",
       "      <td>Natural History Museum</td>\n",
       "      <td>Natural_History_Museum,_London</td>\n",
       "      <td>London</td>\n",
       "      <td>London</td>\n",
       "      <td>United Kingdom</td>\n",
       "      <td>United_Kingdom</td>\n",
       "      <td>4654608</td>\n",
       "      <td>8799800</td>\n",
       "      <td>9787426.0</td>\n",
       "      <td>51.49611</td>\n",
       "      <td>-0.17639</td>\n",
       "      <td>Natural history museum</td>\n",
       "    </tr>\n",
       "    <tr>\n",
       "      <th>3</th>\n",
       "      <td>3</td>\n",
       "      <td>British Museum</td>\n",
       "      <td>British_Museum</td>\n",
       "      <td>London</td>\n",
       "      <td>London</td>\n",
       "      <td>United Kingdom</td>\n",
       "      <td>United_Kingdom</td>\n",
       "      <td>4097253</td>\n",
       "      <td>8799800</td>\n",
       "      <td>9787426.0</td>\n",
       "      <td>NaN</td>\n",
       "      <td>NaN</td>\n",
       "      <td>NaN</td>\n",
       "    </tr>\n",
       "    <tr>\n",
       "      <th>4</th>\n",
       "      <td>4</td>\n",
       "      <td>National Museum of Natural History</td>\n",
       "      <td>National_Museum_of_Natural_History</td>\n",
       "      <td>Washington, D.C.</td>\n",
       "      <td>Washington,_D.C.</td>\n",
       "      <td>United States</td>\n",
       "      <td>United_States</td>\n",
       "      <td>3900000</td>\n",
       "      <td>689545</td>\n",
       "      <td>5174759.0</td>\n",
       "      <td>38.89130</td>\n",
       "      <td>-77.02590</td>\n",
       "      <td>Natural History</td>\n",
       "    </tr>\n",
       "  </tbody>\n",
       "</table>\n",
       "</div>"
      ],
      "text/plain": [
       "   Unnamed: 0                                name  \\\n",
       "0           0                              Louvre   \n",
       "1           1                     Vatican Museums   \n",
       "2           2              Natural History Museum   \n",
       "3           3                      British Museum   \n",
       "4           4  National Museum of Natural History   \n",
       "\n",
       "                                 wiki              city         city_wiki  \\\n",
       "0                              Louvre             Paris             Paris   \n",
       "1                     Vatican_Museums      Vatican City      Vatican_City   \n",
       "2      Natural_History_Museum,_London            London            London   \n",
       "3                      British_Museum            London            London   \n",
       "4  National_Museum_of_Natural_History  Washington, D.C.  Washington,_D.C.   \n",
       "\n",
       "          country    country_wiki  visitors  city_population  \\\n",
       "0          France          France   7726321          2102650   \n",
       "1    Vatican City    Vatican_City   5080866              764   \n",
       "2  United Kingdom  United_Kingdom   4654608          8799800   \n",
       "3  United Kingdom  United_Kingdom   4097253          8799800   \n",
       "4   United States   United_States   3900000           689545   \n",
       "\n",
       "   urban_population  longitude  latitude                   museum_type  \n",
       "0        10858852.0        NaN       NaN  Art museum and historic site  \n",
       "1               NaN   41.90639  12.45444                    Art museum  \n",
       "2         9787426.0   51.49611  -0.17639        Natural history museum  \n",
       "3         9787426.0        NaN       NaN                           NaN  \n",
       "4         5174759.0   38.89130 -77.02590               Natural History  "
      ]
     },
     "execution_count": 102,
     "metadata": {},
     "output_type": "execute_result"
    }
   ],
   "source": [
    "museum_df.head()"
   ]
  },
  {
   "cell_type": "code",
   "execution_count": 103,
   "id": "83c2db55-fcd6-456d-aa24-b98fa4925222",
   "metadata": {},
   "outputs": [
    {
     "data": {
      "text/html": [
       "<div>\n",
       "<style scoped>\n",
       "    .dataframe tbody tr th:only-of-type {\n",
       "        vertical-align: middle;\n",
       "    }\n",
       "\n",
       "    .dataframe tbody tr th {\n",
       "        vertical-align: top;\n",
       "    }\n",
       "\n",
       "    .dataframe thead th {\n",
       "        text-align: right;\n",
       "    }\n",
       "</style>\n",
       "<table border=\"1\" class=\"dataframe\">\n",
       "  <thead>\n",
       "    <tr style=\"text-align: right;\">\n",
       "      <th></th>\n",
       "      <th>Unnamed: 0</th>\n",
       "      <th>visitors</th>\n",
       "      <th>city_population</th>\n",
       "      <th>urban_population</th>\n",
       "      <th>longitude</th>\n",
       "      <th>latitude</th>\n",
       "    </tr>\n",
       "  </thead>\n",
       "  <tbody>\n",
       "    <tr>\n",
       "      <th>count</th>\n",
       "      <td>71.000000</td>\n",
       "      <td>7.100000e+01</td>\n",
       "      <td>7.100000e+01</td>\n",
       "      <td>5.200000e+01</td>\n",
       "      <td>50.000000</td>\n",
       "      <td>50.000000</td>\n",
       "    </tr>\n",
       "    <tr>\n",
       "      <th>mean</th>\n",
       "      <td>35.000000</td>\n",
       "      <td>2.141153e+06</td>\n",
       "      <td>7.093538e+06</td>\n",
       "      <td>1.129714e+07</td>\n",
       "      <td>37.280711</td>\n",
       "      <td>41.168280</td>\n",
       "    </tr>\n",
       "    <tr>\n",
       "      <th>std</th>\n",
       "      <td>20.639767</td>\n",
       "      <td>1.105750e+06</td>\n",
       "      <td>6.582651e+06</td>\n",
       "      <td>9.981719e+06</td>\n",
       "      <td>15.908737</td>\n",
       "      <td>77.124821</td>\n",
       "    </tr>\n",
       "    <tr>\n",
       "      <th>min</th>\n",
       "      <td>0.000000</td>\n",
       "      <td>1.251030e+06</td>\n",
       "      <td>7.640000e+02</td>\n",
       "      <td>5.309900e+05</td>\n",
       "      <td>-37.822500</td>\n",
       "      <td>-118.285830</td>\n",
       "    </tr>\n",
       "    <tr>\n",
       "      <th>25%</th>\n",
       "      <td>17.500000</td>\n",
       "      <td>1.422890e+06</td>\n",
       "      <td>2.102650e+06</td>\n",
       "      <td>5.103660e+06</td>\n",
       "      <td>30.828537</td>\n",
       "      <td>-0.175973</td>\n",
       "    </tr>\n",
       "    <tr>\n",
       "      <th>50%</th>\n",
       "      <td>35.000000</td>\n",
       "      <td>1.694000e+06</td>\n",
       "      <td>5.278121e+06</td>\n",
       "      <td>9.787426e+06</td>\n",
       "      <td>38.891345</td>\n",
       "      <td>18.142838</td>\n",
       "    </tr>\n",
       "    <tr>\n",
       "      <th>75%</th>\n",
       "      <td>52.500000</td>\n",
       "      <td>2.413492e+06</td>\n",
       "      <td>9.659322e+06</td>\n",
       "      <td>1.425437e+07</td>\n",
       "      <td>48.695950</td>\n",
       "      <td>119.500524</td>\n",
       "    </tr>\n",
       "    <tr>\n",
       "      <th>max</th>\n",
       "      <td>70.000000</td>\n",
       "      <td>7.726321e+06</td>\n",
       "      <td>2.687550e+07</td>\n",
       "      <td>3.910500e+07</td>\n",
       "      <td>59.938742</td>\n",
       "      <td>144.968890</td>\n",
       "    </tr>\n",
       "  </tbody>\n",
       "</table>\n",
       "</div>"
      ],
      "text/plain": [
       "       Unnamed: 0      visitors  city_population  urban_population  longitude  \\\n",
       "count   71.000000  7.100000e+01     7.100000e+01      5.200000e+01  50.000000   \n",
       "mean    35.000000  2.141153e+06     7.093538e+06      1.129714e+07  37.280711   \n",
       "std     20.639767  1.105750e+06     6.582651e+06      9.981719e+06  15.908737   \n",
       "min      0.000000  1.251030e+06     7.640000e+02      5.309900e+05 -37.822500   \n",
       "25%     17.500000  1.422890e+06     2.102650e+06      5.103660e+06  30.828537   \n",
       "50%     35.000000  1.694000e+06     5.278121e+06      9.787426e+06  38.891345   \n",
       "75%     52.500000  2.413492e+06     9.659322e+06      1.425437e+07  48.695950   \n",
       "max     70.000000  7.726321e+06     2.687550e+07      3.910500e+07  59.938742   \n",
       "\n",
       "         latitude  \n",
       "count   50.000000  \n",
       "mean    41.168280  \n",
       "std     77.124821  \n",
       "min   -118.285830  \n",
       "25%     -0.175973  \n",
       "50%     18.142838  \n",
       "75%    119.500524  \n",
       "max    144.968890  "
      ]
     },
     "execution_count": 103,
     "metadata": {},
     "output_type": "execute_result"
    }
   ],
   "source": [
    "museum_df.describe()"
   ]
  },
  {
   "cell_type": "code",
   "execution_count": 104,
   "id": "1d99ec9e-cc70-46f9-aaca-51cb8ed2e043",
   "metadata": {},
   "outputs": [],
   "source": [
    "# We don't need these.\n",
    "museum_df = museum_df.drop(columns=['Unnamed: 0', 'wiki', 'city_wiki', 'country_wiki'])"
   ]
  },
  {
   "cell_type": "code",
   "execution_count": 105,
   "id": "85b31cfb-e6f9-4f0c-a8d6-f08a8798cbc8",
   "metadata": {},
   "outputs": [],
   "source": [
    "# Filter data set to desired subset\n",
    "museum_df = museum_df[museum_df.visitors >= 2000000]"
   ]
  },
  {
   "cell_type": "markdown",
   "id": "d9257e1c-10a9-47ab-90cf-138e97f9e41e",
   "metadata": {},
   "source": [
    "### Check our 'primary' independent."
   ]
  },
  {
   "cell_type": "code",
   "execution_count": 106,
   "id": "68ccc736-4ea6-4ed5-b91a-9e43ddf7b4f5",
   "metadata": {},
   "outputs": [
    {
     "data": {
      "text/plain": [
       "<Axes: >"
      ]
     },
     "execution_count": 106,
     "metadata": {},
     "output_type": "execute_result"
    },
    {
     "data": {
      "image/png": "[encoded data removed]",
      "text/plain": [
       "<Figure size 640x480 with 1 Axes>"
      ]
     },
     "metadata": {},
     "output_type": "display_data"
    }
   ],
   "source": [
    "museum_df['city_population'].hist(bins=10)"
   ]
  },
  {
   "cell_type": "markdown",
   "id": "33b65751-de86-4287-acb3-b7dc90a72218",
   "metadata": {},
   "source": [
    "Terrible."
   ]
  },
  {
   "cell_type": "code",
   "execution_count": 108,
   "id": "f4e50f30-0708-4cd2-99c0-36051e11e741",
   "metadata": {},
   "outputs": [
    {
     "data": {
      "text/plain": [
       "<Axes: >"
      ]
     },
     "execution_count": 108,
     "metadata": {},
     "output_type": "execute_result"
    },
    {
     "data": {
      "image/png": "[encoded data removed]",
      "text/plain": [
       "<Figure size 640x480 with 1 Axes>"
      ]
     },
     "metadata": {},
     "output_type": "display_data"
    }
   ],
   "source": [
    "museum_df['log_city_population'] = np.log(museum_df['city_population'])\n",
    "museum_df['log_city_population'].hist(bins=10)"
   ]
  },
  {
   "cell_type": "markdown",
   "id": "1318c889-c98b-47e6-80f3-32add08dd05d",
   "metadata": {},
   "source": [
    "Still terrible."
   ]
  },
  {
   "cell_type": "markdown",
   "id": "ce84ec05-2256-4e32-8112-3ad0426ec626",
   "metadata": {},
   "source": [
    "### Vatican City\n",
    "Vatican City is causing us some problems.  Manually address this by updating the city population value to that of Rome. 2,860,009 according to Wikipedia"
   ]
  },
  {
   "cell_type": "code",
   "execution_count": 110,
   "id": "6bc3057f-a1f2-4082-b1c0-5dd2348d82da",
   "metadata": {},
   "outputs": [
    {
     "data": {
      "text/plain": [
       "array([[<Axes: title={'center': 'city_population'}>,\n",
       "        <Axes: title={'center': 'log_city_population'}>],\n",
       "       [<Axes: title={'center': 'yj_city_population'}>,\n",
       "        <Axes: title={'center': 'bc_city_population'}>]], dtype=object)"
      ]
     },
     "execution_count": 110,
     "metadata": {},
     "output_type": "execute_result"
    },
    {
     "data": {
      "image/png": "[encoded data removed]",
      "text/plain": [
       "<Figure size 640x480 with 4 Axes>"
      ]
     },
     "metadata": {},
     "output_type": "display_data"
    }
   ],
   "source": [
    "museum_df.loc[museum_df['name']=='Vatican Museums', 'city_population'] = 2860009\n",
    "museum_df['log_city_population'] = np.log(museum_df['city_population'])\n",
    "museum_df['yj_city_population'] = power_transform(np.array(museum_df['city_population']).reshape(-1, 1), method='yeo-johnson', standardize=True)\n",
    "museum_df['bc_city_population'] = power_transform(np.array(museum_df['city_population']).reshape(-1, 1), method='box-cox', standardize=True)\n",
    "\n",
    "museum_df.hist(column=['city_population', 'log_city_population', 'yj_city_population', 'bc_city_population'], bins=10)"
   ]
  },
  {
   "cell_type": "markdown",
   "id": "e096ff3f-ee46-4117-a359-e310f06b8412",
   "metadata": {},
   "source": [
    "Some marginally better options."
   ]
  },
  {
   "cell_type": "code",
   "execution_count": 111,
   "id": "f7835054-5aaf-4413-91e7-ecac1a19e9f0",
   "metadata": {},
   "outputs": [
    {
     "data": {
      "text/plain": [
       "<matplotlib.collections.PathCollection at 0x7f88075e5dd0>"
      ]
     },
     "execution_count": 111,
     "metadata": {},
     "output_type": "execute_result"
    },
    {
     "data": {
      "image/png": "[encoded data removed]",
      "text/plain": [
       "<Figure size 640x480 with 1 Axes>"
      ]
     },
     "metadata": {},
     "output_type": "display_data"
    }
   ],
   "source": [
    "plt.scatter(museum_df['yj_city_population'], museum_df['visitors'])"
   ]
  },
  {
   "cell_type": "markdown",
   "id": "41fef82e-080d-45c1-b8bb-4c43c79ae487",
   "metadata": {},
   "source": [
    "### Add a 'museums in city' feature"
   ]
  },
  {
   "cell_type": "code",
   "execution_count": 112,
   "id": "c7a362e0-e0ef-4832-b392-82cbedd69b13",
   "metadata": {},
   "outputs": [
    {
     "data": {
      "text/plain": [
       "array([[<Axes: title={'center': 'museums_in_city'}>,\n",
       "        <Axes: title={'center': 'log_museums_in_city'}>],\n",
       "       [<Axes: title={'center': 'yj_museums_in_city'}>,\n",
       "        <Axes: title={'center': 'bc_museums_in_city'}>]], dtype=object)"
      ]
     },
     "execution_count": 112,
     "metadata": {},
     "output_type": "execute_result"
    },
    {
     "data": {
      "image/png": "[encoded data removed]",
      "text/plain": [
       "<Figure size 640x480 with 4 Axes>"
      ]
     },
     "metadata": {},
     "output_type": "display_data"
    }
   ],
   "source": [
    "museum_df['museums_in_city'] = museum_df['name'].groupby(museum_df['city']).transform('count')\n",
    "\n",
    "museum_df['log_museums_in_city'] = np.log(museum_df['museums_in_city'])\n",
    "museum_df['yj_museums_in_city'] = power_transform(np.array(museum_df['museums_in_city']).reshape(-1, 1), method='yeo-johnson', standardize=True)\n",
    "museum_df['bc_museums_in_city'] = power_transform(np.array(museum_df['museums_in_city']).reshape(-1, 1), method='box-cox', standardize=True)\n",
    "\n",
    "museum_df.hist(column=['museums_in_city', 'log_museums_in_city', 'yj_museums_in_city', 'bc_museums_in_city'])"
   ]
  },
  {
   "cell_type": "code",
   "execution_count": 113,
   "id": "1ab87739-1f47-4932-804a-2167dcdab92c",
   "metadata": {},
   "outputs": [
    {
     "data": {
      "text/plain": [
       "<matplotlib.collections.PathCollection at 0x7f88073efbd0>"
      ]
     },
     "execution_count": 113,
     "metadata": {},
     "output_type": "execute_result"
    },
    {
     "data": {
      "image/png": "[encoded data removed]",
      "text/plain": [
       "<Figure size 640x480 with 1 Axes>"
      ]
     },
     "metadata": {},
     "output_type": "display_data"
    }
   ],
   "source": [
    "plt.scatter(museum_df['yj_museums_in_city'], museum_df['visitors'])"
   ]
  },
  {
   "cell_type": "markdown",
   "id": "c8db7d7e-6350-4e84-8807-2cfa1a6027ae",
   "metadata": {},
   "source": [
    "# Setup a basic (univariate) Linear Regression"
   ]
  },
  {
   "cell_type": "code",
   "execution_count": 137,
   "id": "a5c79805-5b57-4ebd-80f6-6fe391b58c42",
   "metadata": {},
   "outputs": [],
   "source": [
    "X = np.array(museum_df['yj_city_population']).reshape(-1, 1)\n",
    "y = np.array(museum_df['visitors']).reshape(-1, 1)\n",
    "\n",
    "X_train, X_test, y_train, y_test = train_test_split(X, y, test_size = 0.33)"
   ]
  },
  {
   "cell_type": "code",
   "execution_count": 138,
   "id": "1e02c6dd-ae8a-4847-9759-e50bff90525a",
   "metadata": {},
   "outputs": [
    {
     "data": {
      "text/plain": [
       "-0.3111605741927459"
      ]
     },
     "execution_count": 138,
     "metadata": {},
     "output_type": "execute_result"
    }
   ],
   "source": [
    "model = LinearRegression()\n",
    "model.fit(X_train, y_train)\n",
    "\n",
    "model.score(X_test, y_test)"
   ]
  },
  {
   "cell_type": "code",
   "execution_count": 139,
   "id": "4ca408b9-c8f2-4ad4-af6d-171f71836e9f",
   "metadata": {},
   "outputs": [
    {
     "name": "stdout",
     "output_type": "stream",
     "text": [
      "[3304215.02975436] [[-110836.2990979]] 0.0054252756152857184\n"
     ]
    }
   ],
   "source": [
    "print(model.intercept_, model.coef_, model.score(X, y))"
   ]
  },
  {
   "cell_type": "code",
   "execution_count": 140,
   "id": "b0393d3c-ebd7-480d-8229-838ef36e53b2",
   "metadata": {},
   "outputs": [
    {
     "data": {
      "image/png": "[encoded data removed]",
      "text/plain": [
       "<Figure size 640x480 with 1 Axes>"
      ]
     },
     "metadata": {},
     "output_type": "display_data"
    }
   ],
   "source": [
    "y_pred = model.predict(X_test)\n",
    "\n",
    "plt.scatter(X_test, y_test, color ='b')\n",
    "\n",
    "plt.plot(X_test, y_pred, color ='r')\n",
    "\n",
    "plt.show()"
   ]
  },
  {
   "cell_type": "code",
   "execution_count": 121,
   "id": "755a17c3-6f64-4b40-8c56-823a1650bff2",
   "metadata": {},
   "outputs": [],
   "source": [
    "pd.get_dummies(museum_df, columns = ['country'])\n",
    "# Clean the dataframe up a bit to focus on country as a second independent.\n",
    "copy_df = museum_df.drop(columns=[\n",
    "    'name', \n",
    "    'city', \n",
    "    'country', \n",
    "    'city_population', \n",
    "    'urban_population', \n",
    "    'longitude', \n",
    "    'latitude', \n",
    "    'museum_type', \n",
    "    'log_city_population', \n",
    "    'bc_city_population', \n",
    "    'museums_in_city', \n",
    "    'log_museums_in_city',\n",
    "    'yj_museums_in_city', \n",
    "    'bc_museums_in_city'\n",
    "])"
   ]
  },
  {
   "cell_type": "code",
   "execution_count": 128,
   "id": "d232fe91-94b1-4c3e-8e03-1a5de5552c06",
   "metadata": {},
   "outputs": [],
   "source": [
    "X = copy_df.drop('visitors',axis= 1) \n",
    "y = copy_df['visitors'] \n",
    "\n",
    "X_train, X_test, y_train, y_test = train_test_split(X, y, test_size = 0.33)"
   ]
  },
  {
   "cell_type": "code",
   "execution_count": 129,
   "id": "64400d68-fdc9-49d0-abd6-2073ff1146cd",
   "metadata": {},
   "outputs": [
    {
     "data": {
      "text/plain": [
       "-5.931083524253651"
      ]
     },
     "execution_count": 129,
     "metadata": {},
     "output_type": "execute_result"
    }
   ],
   "source": [
    "model = LinearRegression()\n",
    "model.fit(X_train, y_train)\n",
    "\n",
    "model.score(X_test, y_test)"
   ]
  },
  {
   "cell_type": "code",
   "execution_count": 130,
   "id": "11d32594-3a41-44d9-af37-75e6d1690d69",
   "metadata": {},
   "outputs": [
    {
     "name": "stdout",
     "output_type": "stream",
     "text": [
      "3403322.0804404784 [-73007.41482338] -0.026337531286051874\n"
     ]
    }
   ],
   "source": [
    "print(model.intercept_, model.coef_, model.score(X, y))"
   ]
  },
  {
   "cell_type": "code",
   "execution_count": null,
   "id": "c5b9eb6b-0b90-47e2-b909-573800a6fd79",
   "metadata": {},
   "outputs": [],
   "source": []
  }
 ],
 "metadata": {
  "kernelspec": {
   "display_name": "Python 3 (ipykernel)",
   "language": "python",
   "name": "python3"
  },
  "language_info": {
   "codemirror_mode": {
    "name": "ipython",
    "version": 3
   },
   "file_extension": ".py",
   "mimetype": "text/x-python",
   "name": "python",
   "nbconvert_exporter": "python",
   "pygments_lexer": "ipython3",
   "version": "3.11.6"
  }
 },
 "nbformat": 4,
 "nbformat_minor": 5
}
