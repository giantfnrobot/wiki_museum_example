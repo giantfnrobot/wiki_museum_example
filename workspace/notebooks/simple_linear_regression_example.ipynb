{
 "cells": [
  {
   "cell_type": "markdown",
   "id": "f51e5e3a-d8ed-4550-8f5b-287f05a479d1",
   "metadata": {},
   "source": [
    "# Imports\n",
    "\n",
    "Import the wheel containinf the parser class."
   ]
  },
  {
   "cell_type": "code",
   "execution_count": 1,
   "id": "ebb363fe-bce5-4f5b-88dc-c6007c9fc25d",
   "metadata": {},
   "outputs": [],
   "source": [
    "import pandas as pd\n",
    "\n",
    "from utils.fetcher import Fetcher as f\n",
    "from utils.museum import Museum\n",
    "from enricher import Enricher as e"
   ]
  },
  {
   "cell_type": "markdown",
   "id": "86d54c6d-8922-4096-bde4-5c1d783172d8",
   "metadata": {},
   "source": [
    "# Fetch the Dataframe Using the Parser Class\n",
    "The parser will fetch a collection of Wikipedia data and dump it into a Dataframe for easier use by a Data Scientist. Once this step is completed there no further use for the parser.\n",
    "\n",
    "NOTE: This is a relatively slow process - since the parser is crawling the Wikipedia page's museum and city links."
   ]
  },
  {
   "cell_type": "code",
   "execution_count": null,
   "id": "afb1f9cb-22b2-4f7b-882a-a532b7a7ce14",
   "metadata": {},
   "outputs": [],
   "source": [
    "parser = MuseumParser()\n",
    "museum_df = parser.fetch_museum_data()"
   ]
  },
  {
   "cell_type": "markdown",
   "id": "92489d0a-1750-4350-9cb5-313b0dcd9e56",
   "metadata": {},
   "source": [
    "# Or ... Fetch the Dataframe From a CSV Compiled Previously\n",
    "The 'run_job' script in the Parser container runs the code in the cell above and dumps the CVS to a file on disk.  To speed things up a bit we can just relaod a previoulsy parsed set of Wikipedia data.  This is, of course, faster."
   ]
  },
  {
   "cell_type": "code",
   "execution_count": 8,
   "id": "186c9e09-bdbe-4334-a254-ecb3319c5ff5",
   "metadata": {},
   "outputs": [],
   "source": [
    "filename = '../data/museum_data_265377.csv'\n",
    "museum_df = pd.read_csv(filename, sep='\\t')"
   ]
  },
  {
   "cell_type": "code",
   "execution_count": 9,
   "id": "bbd18920-3d47-4e1f-8eb6-4c1874e2e06b",
   "metadata": {},
   "outputs": [
    {
     "name": "stdout",
     "output_type": "stream",
     "text": [
      "   Unnamed: 0                                name  \\\n",
      "0           0                              Louvre   \n",
      "1           1                     Vatican Museums   \n",
      "2           2              Natural History Museum   \n",
      "3           3                      British Museum   \n",
      "4           4  National Museum of Natural History   \n",
      "\n",
      "                                 wiki              city         city_wiki  \\\n",
      "0                              Louvre             Paris             Paris   \n",
      "1                     Vatican_Museums      Vatican City      Vatican_City   \n",
      "2      Natural_History_Museum,_London            London            London   \n",
      "3                      British_Museum            London            London   \n",
      "4  National_Museum_of_Natural_History  Washington, D.C.  Washington,_D.C.   \n",
      "\n",
      "          country    country_wiki  visitors  city_population  \\\n",
      "0          France          France   7726321          2102650   \n",
      "1    Vatican City    Vatican_City   5080866              764   \n",
      "2  United Kingdom  United_Kingdom   4654608          8799800   \n",
      "3  United Kingdom  United_Kingdom   4097253          8799800   \n",
      "4   United States   United_States   3900000           689545   \n",
      "\n",
      "   urban_population  longitude  latitude                   museum_type  \n",
      "0        10858852.0        NaN       NaN  Art museum and historic site  \n",
      "1               NaN   41.90639  12.45444                    Art museum  \n",
      "2         9787426.0   51.49611  -0.17639        Natural history museum  \n",
      "3         9787426.0        NaN       NaN                           NaN  \n",
      "4         5174759.0   38.89130 -77.02590               Natural History  \n"
     ]
    }
   ],
   "source": [
    "print(museum_df.head())"
   ]
  },
  {
   "cell_type": "code",
   "execution_count": null,
   "id": "83c2db55-fcd6-456d-aa24-b98fa4925222",
   "metadata": {},
   "outputs": [],
   "source": []
  }
 ],
 "metadata": {
  "kernelspec": {
   "display_name": "Python 3 (ipykernel)",
   "language": "python",
   "name": "python3"
  },
  "language_info": {
   "codemirror_mode": {
    "name": "ipython",
    "version": 3
   },
   "file_extension": ".py",
   "mimetype": "text/x-python",
   "name": "python",
   "nbconvert_exporter": "python",
   "pygments_lexer": "ipython3",
   "version": "3.11.6"
  }
 },
 "nbformat": 4,
 "nbformat_minor": 5
}
