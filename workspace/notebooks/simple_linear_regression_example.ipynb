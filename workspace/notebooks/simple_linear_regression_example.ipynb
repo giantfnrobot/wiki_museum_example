{
 "cells": [
  {
   "cell_type": "markdown",
   "id": "f51e5e3a-d8ed-4550-8f5b-287f05a479d1",
   "metadata": {},
   "source": [
    "# Imports\n",
    "\n",
    "Import the wheel containing the parser class (and some other stuff)."
   ]
  },
  {
   "cell_type": "code",
   "execution_count": 1,
   "id": "ebb363fe-bce5-4f5b-88dc-c6007c9fc25d",
   "metadata": {},
   "outputs": [],
   "source": [
    "import matplotlib.pyplot as plt\n",
    "import numpy as np\n",
    "\n",
    "import pandas as pd\n",
    "\n",
    "from sklearn.preprocessing import power_transform\n",
    "from sklearn.model_selection import train_test_split\n",
    "from sklearn.pipeline import Pipeline\n",
    "from sklearn.preprocessing import PowerTransformer\n",
    "from sklearn.preprocessing import StandardScaler\n",
    "from sklearn.linear_model import LinearRegression\n",
    "\n",
    "from museum_parser import parser\n",
    "from museum_parser.utils.museum import Museum\n",
    "from museum_parser import enricher"
   ]
  },
  {
   "cell_type": "markdown",
   "id": "86d54c6d-8922-4096-bde4-5c1d783172d8",
   "metadata": {},
   "source": [
    "# Fetch the Dataframe Using the Parser Class\n",
    "The parser will fetch a collection of Wikipedia data and dump it into a Dataframe for easier use by a Data Scientist. Once this step is completed there no further use for the parser.\n",
    "\n",
    "The ```fetch_museum_data method``` will take a ```minimum_visitors``` argument that filters the list of museums returned (to those with a visitors value meeting or exceeding the parameter value).  Use this to scope the query.\n",
    "\n",
    "NOTE: This is a relatively slow process - since the parser is crawling the Wikipedia page's museum and city links.  "
   ]
  },
  {
   "cell_type": "code",
   "execution_count": 4,
   "id": "afb1f9cb-22b2-4f7b-882a-a532b7a7ce14",
   "metadata": {
    "scrolled": true
   },
   "outputs": [
    {
     "name": "stdout",
     "output_type": "stream",
     "text": [
      "fetching museum list ...\n",
      "... parsing record for Louvre\n",
      "... parsing record for Vatican Museums\n",
      "... parsing record for Natural History Museum\n",
      "... parsing record for British Museum\n",
      "... parsing record for National Museum of Natural History\n",
      "... parsing record for Tate Modern\n",
      "... parsing record for National Museum of Korea\n",
      "... parsing record for Guangdong Museum\n",
      "... parsing record for Mevlana Museum\n",
      "... parsing record for Musée d'Orsay\n",
      "... parsing record for National Gallery of Art\n",
      "... parsing record for Metropolitan Museum of Art\n",
      "... parsing record for Centre Pompidou\n",
      "... parsing record for State Hermitage Museum\n",
      "... parsing record for National Gallery\n",
      "... parsing record for State Russian Museum\n",
      "... parsing record for National Museum of Marine Science and Technology\n",
      "... parsing record for Prado Museum\n",
      "... parsing record for Victoria and Albert Museum\n",
      "... parsing record for London Science Museum\n",
      "... parsing record for Chinese Aviation Museum\n",
      "... parsing record for National Museum of Natural Science\n",
      "... parsing record for Galleria degli Uffizi\n",
      "... parsing record for Museum of Modern Art\n",
      "... parsing record for Topography of Terror\n",
      "... parsing record for M+\n",
      "... parsing record for Opium War Museum\n",
      "... parsing record for Cité des Sciences et de l'Industrie\n",
      "... parsing record for National Museum of Scotland\n",
      "... parsing record for State Tretyakov Gallery\n",
      "... parsing record for National Taiwan Science Education Center\n",
      "... parsing record for National Science and Technology Museum\n",
      "... parsing record for National Museum of Modern and Contemporary Art\n",
      "... parsing record for Smithsonian Museum of American History\n",
      "... parsing record for Rijksmuseum\n",
      "... parsing record for California Science Center\n",
      "... parsing record for National Museum of China\n",
      "... parsing record for Royal Museums Greenwich\n",
      "... parsing record for Nanjing Museum\n",
      "... parsing record for Zhejiang Museum of Natural History\n",
      "... parsing record for National Gallery of Victoria\n",
      "... parsing record for Jianchuan Museum Cluster\n",
      "... parsing record for Houston Museum of Natural Science\n",
      "... parsing record for Tokyo Metropolitan Art Museum\n",
      "... parsing record for Changzhou Museum\n",
      "... parsing record for Humboldt Forum\n",
      "... parsing record for National Museum of Anthropology\n",
      "... parsing record for National Museum of History\n",
      "... parsing record for National Air and Space Museum\n",
      "... parsing record for Kaohsiung Museum of Fine Arts\n",
      "... parsing record for Acropolis Museum\n",
      "... parsing record for China Science and Technology Museum\n",
      "... parsing record for Galleria dell'Accademia\n",
      "... parsing record for Suzhou Museum\n",
      "... parsing record for Chengdu Museum\n",
      "... parsing record for Shanghai Science and Technology Museum\n",
      "... parsing record for The National Art Center, Tokyo\n",
      "... parsing record for Louis Vuitton Foundation\n",
      "... parsing record for Tokyo National Museum\n",
      "... parsing record for National Museum, Krakow\n",
      "... parsing record for Centro Cultural Banco do Brasil\n",
      "... parsing record for Van Gogh Museum\n",
      "... parsing record for National Museum of Nature and Science\n",
      "... parsing record for Kunsthistorisches Museum\n",
      "... parsing record for Tianjin Natural History Museum\n",
      "... parsing record for Palacio de Cristal del Retiro\n",
      "... parsing record for Guggenheim Museum Bilbao\n",
      "... parsing record for Scottish National Gallery\n",
      "... parsing record for National Gallery Singapore\n",
      "... parsing record for Museo Reina Sofía\n",
      "... parsing record for Museum of European and Mediterranean Civilisations\n"
     ]
    }
   ],
   "source": [
    "museum_df = parser.fetch_museum_data(minimum_visitors=2000000)"
   ]
  },
  {
   "cell_type": "markdown",
   "id": "92489d0a-1750-4350-9cb5-313b0dcd9e56",
   "metadata": {},
   "source": [
    "# Or ... Fetch the Dataframe From a CSV Compiled Previously\n",
    "The 'run_pkg' script in the Parser container runs the code in the cell above and dumps the CVS to a file on disk.  To speed things up a bit we can just relaod a previoulsy parsed set of Wikipedia data."
   ]
  },
  {
   "cell_type": "code",
   "execution_count": 71,
   "id": "186c9e09-bdbe-4334-a254-ecb3319c5ff5",
   "metadata": {},
   "outputs": [],
   "source": [
    "filename = '../data/museum_data_1702231574788375.csv'\n",
    "museum_df = pd.read_csv(filename, sep='\\t')"
   ]
  },
  {
   "cell_type": "code",
   "execution_count": 72,
   "id": "bbd18920-3d47-4e1f-8eb6-4c1874e2e06b",
   "metadata": {},
   "outputs": [
    {
     "data": {
      "text/html": [
       "<div>\n",
       "<style scoped>\n",
       "    .dataframe tbody tr th:only-of-type {\n",
       "        vertical-align: middle;\n",
       "    }\n",
       "\n",
       "    .dataframe tbody tr th {\n",
       "        vertical-align: top;\n",
       "    }\n",
       "\n",
       "    .dataframe thead th {\n",
       "        text-align: right;\n",
       "    }\n",
       "</style>\n",
       "<table border=\"1\" class=\"dataframe\">\n",
       "  <thead>\n",
       "    <tr style=\"text-align: right;\">\n",
       "      <th></th>\n",
       "      <th>name</th>\n",
       "      <th>city</th>\n",
       "      <th>country</th>\n",
       "      <th>visitors</th>\n",
       "      <th>city_population</th>\n",
       "      <th>urban_population</th>\n",
       "      <th>longitude</th>\n",
       "      <th>latitude</th>\n",
       "      <th>museum_type</th>\n",
       "    </tr>\n",
       "  </thead>\n",
       "  <tbody>\n",
       "    <tr>\n",
       "      <th>0</th>\n",
       "      <td>Louvre</td>\n",
       "      <td>Paris</td>\n",
       "      <td>France</td>\n",
       "      <td>7726321</td>\n",
       "      <td>2102650</td>\n",
       "      <td>10858852.0</td>\n",
       "      <td>48.86111</td>\n",
       "      <td>2.33583</td>\n",
       "      <td>Art museum and historic site</td>\n",
       "    </tr>\n",
       "    <tr>\n",
       "      <th>1</th>\n",
       "      <td>Vatican Museums</td>\n",
       "      <td>Vatican City</td>\n",
       "      <td>Vatican City</td>\n",
       "      <td>5080866</td>\n",
       "      <td>764</td>\n",
       "      <td>NaN</td>\n",
       "      <td>41.90639</td>\n",
       "      <td>12.45444</td>\n",
       "      <td>Art museum</td>\n",
       "    </tr>\n",
       "    <tr>\n",
       "      <th>2</th>\n",
       "      <td>Natural History Museum</td>\n",
       "      <td>London</td>\n",
       "      <td>United Kingdom</td>\n",
       "      <td>4654608</td>\n",
       "      <td>8799800</td>\n",
       "      <td>9787426.0</td>\n",
       "      <td>51.49611</td>\n",
       "      <td>-0.17639</td>\n",
       "      <td>Natural history museum</td>\n",
       "    </tr>\n",
       "    <tr>\n",
       "      <th>3</th>\n",
       "      <td>British Museum</td>\n",
       "      <td>London</td>\n",
       "      <td>United Kingdom</td>\n",
       "      <td>4097253</td>\n",
       "      <td>8799800</td>\n",
       "      <td>9787426.0</td>\n",
       "      <td>51.51944</td>\n",
       "      <td>-0.12694</td>\n",
       "      <td>NaN</td>\n",
       "    </tr>\n",
       "    <tr>\n",
       "      <th>4</th>\n",
       "      <td>National Museum of Natural History</td>\n",
       "      <td>Washington, D.C.</td>\n",
       "      <td>United States</td>\n",
       "      <td>3900000</td>\n",
       "      <td>689545</td>\n",
       "      <td>5174759.0</td>\n",
       "      <td>38.89130</td>\n",
       "      <td>-77.02590</td>\n",
       "      <td>Natural History</td>\n",
       "    </tr>\n",
       "  </tbody>\n",
       "</table>\n",
       "</div>"
      ],
      "text/plain": [
       "                                 name              city         country  \\\n",
       "0                              Louvre             Paris          France   \n",
       "1                     Vatican Museums      Vatican City    Vatican City   \n",
       "2              Natural History Museum            London  United Kingdom   \n",
       "3                      British Museum            London  United Kingdom   \n",
       "4  National Museum of Natural History  Washington, D.C.   United States   \n",
       "\n",
       "   visitors  city_population  urban_population  longitude  latitude  \\\n",
       "0   7726321          2102650        10858852.0   48.86111   2.33583   \n",
       "1   5080866              764               NaN   41.90639  12.45444   \n",
       "2   4654608          8799800         9787426.0   51.49611  -0.17639   \n",
       "3   4097253          8799800         9787426.0   51.51944  -0.12694   \n",
       "4   3900000           689545         5174759.0   38.89130 -77.02590   \n",
       "\n",
       "                    museum_type  \n",
       "0  Art museum and historic site  \n",
       "1                    Art museum  \n",
       "2        Natural history museum  \n",
       "3                           NaN  \n",
       "4               Natural History  "
      ]
     },
     "execution_count": 72,
     "metadata": {},
     "output_type": "execute_result"
    }
   ],
   "source": [
    "museum_df.head()"
   ]
  },
  {
   "cell_type": "code",
   "execution_count": 73,
   "id": "83c2db55-fcd6-456d-aa24-b98fa4925222",
   "metadata": {},
   "outputs": [
    {
     "data": {
      "text/html": [
       "<div>\n",
       "<style scoped>\n",
       "    .dataframe tbody tr th:only-of-type {\n",
       "        vertical-align: middle;\n",
       "    }\n",
       "\n",
       "    .dataframe tbody tr th {\n",
       "        vertical-align: top;\n",
       "    }\n",
       "\n",
       "    .dataframe thead th {\n",
       "        text-align: right;\n",
       "    }\n",
       "</style>\n",
       "<table border=\"1\" class=\"dataframe\">\n",
       "  <thead>\n",
       "    <tr style=\"text-align: right;\">\n",
       "      <th></th>\n",
       "      <th>visitors</th>\n",
       "      <th>city_population</th>\n",
       "      <th>urban_population</th>\n",
       "      <th>longitude</th>\n",
       "      <th>latitude</th>\n",
       "    </tr>\n",
       "  </thead>\n",
       "  <tbody>\n",
       "    <tr>\n",
       "      <th>count</th>\n",
       "      <td>2.700000e+01</td>\n",
       "      <td>2.700000e+01</td>\n",
       "      <td>2.000000e+01</td>\n",
       "      <td>26.000000</td>\n",
       "      <td>26.000000</td>\n",
       "    </tr>\n",
       "    <tr>\n",
       "      <th>mean</th>\n",
       "      <td>3.159999e+06</td>\n",
       "      <td>6.311284e+06</td>\n",
       "      <td>1.022411e+07</td>\n",
       "      <td>43.219148</td>\n",
       "      <td>20.922662</td>\n",
       "    </tr>\n",
       "    <tr>\n",
       "      <th>std</th>\n",
       "      <td>1.218204e+06</td>\n",
       "      <td>5.360234e+06</td>\n",
       "      <td>5.517521e+06</td>\n",
       "      <td>10.610004</td>\n",
       "      <td>63.165374</td>\n",
       "    </tr>\n",
       "    <tr>\n",
       "      <th>min</th>\n",
       "      <td>2.025800e+06</td>\n",
       "      <td>7.640000e+02</td>\n",
       "      <td>1.390051e+06</td>\n",
       "      <td>22.300958</td>\n",
       "      <td>-77.025900</td>\n",
       "    </tr>\n",
       "    <tr>\n",
       "      <th>25%</th>\n",
       "      <td>2.317465e+06</td>\n",
       "      <td>2.102650e+06</td>\n",
       "      <td>5.951940e+06</td>\n",
       "      <td>38.891323</td>\n",
       "      <td>-0.174027</td>\n",
       "    </tr>\n",
       "    <tr>\n",
       "      <th>50%</th>\n",
       "      <td>2.812913e+06</td>\n",
       "      <td>5.601911e+06</td>\n",
       "      <td>9.787426e+06</td>\n",
       "      <td>42.837360</td>\n",
       "      <td>2.344037</td>\n",
       "    </tr>\n",
       "    <tr>\n",
       "      <th>75%</th>\n",
       "      <td>3.385540e+06</td>\n",
       "      <td>8.799800e+06</td>\n",
       "      <td>1.085885e+07</td>\n",
       "      <td>51.497222</td>\n",
       "      <td>31.961636</td>\n",
       "    </tr>\n",
       "    <tr>\n",
       "      <th>max</th>\n",
       "      <td>7.726321e+06</td>\n",
       "      <td>2.189310e+07</td>\n",
       "      <td>2.189310e+07</td>\n",
       "      <td>59.940560</td>\n",
       "      <td>126.980280</td>\n",
       "    </tr>\n",
       "  </tbody>\n",
       "</table>\n",
       "</div>"
      ],
      "text/plain": [
       "           visitors  city_population  urban_population  longitude    latitude\n",
       "count  2.700000e+01     2.700000e+01      2.000000e+01  26.000000   26.000000\n",
       "mean   3.159999e+06     6.311284e+06      1.022411e+07  43.219148   20.922662\n",
       "std    1.218204e+06     5.360234e+06      5.517521e+06  10.610004   63.165374\n",
       "min    2.025800e+06     7.640000e+02      1.390051e+06  22.300958  -77.025900\n",
       "25%    2.317465e+06     2.102650e+06      5.951940e+06  38.891323   -0.174027\n",
       "50%    2.812913e+06     5.601911e+06      9.787426e+06  42.837360    2.344037\n",
       "75%    3.385540e+06     8.799800e+06      1.085885e+07  51.497222   31.961636\n",
       "max    7.726321e+06     2.189310e+07      2.189310e+07  59.940560  126.980280"
      ]
     },
     "execution_count": 73,
     "metadata": {},
     "output_type": "execute_result"
    }
   ],
   "source": [
    "museum_df.describe()"
   ]
  },
  {
   "cell_type": "markdown",
   "id": "405d8249-267c-4c87-ad48-79a0fba7a643",
   "metadata": {},
   "source": [
    "This is a really small dataset - dealing with variance will be a problem."
   ]
  },
  {
   "cell_type": "code",
   "execution_count": 74,
   "id": "85b31cfb-e6f9-4f0c-a8d6-f08a8798cbc8",
   "metadata": {},
   "outputs": [],
   "source": [
    "# Filter data set to desired subset\n",
    "museum_df = museum_df[museum_df.visitors >= 2000000]"
   ]
  },
  {
   "cell_type": "markdown",
   "id": "d9257e1c-10a9-47ab-90cf-138e97f9e41e",
   "metadata": {},
   "source": [
    "### Check our 'primary' independent."
   ]
  },
  {
   "cell_type": "code",
   "execution_count": 75,
   "id": "68ccc736-4ea6-4ed5-b91a-9e43ddf7b4f5",
   "metadata": {},
   "outputs": [
    {
     "data": {
      "text/plain": [
       "<Axes: >"
      ]
     },
     "execution_count": 75,
     "metadata": {},
     "output_type": "execute_result"
    },
    {
     "data": {
      "image/png": "[encoded data removed]",
      "text/plain": [
       "<Figure size 640x480 with 1 Axes>"
      ]
     },
     "metadata": {},
     "output_type": "display_data"
    }
   ],
   "source": [
    "museum_df['city_population'].hist(bins=10)"
   ]
  },
  {
   "cell_type": "markdown",
   "id": "33b65751-de86-4287-acb3-b7dc90a72218",
   "metadata": {},
   "source": [
    "Terrible. Let's try a quick log transformation:"
   ]
  },
  {
   "cell_type": "code",
   "execution_count": 76,
   "id": "f4e50f30-0708-4cd2-99c0-36051e11e741",
   "metadata": {},
   "outputs": [
    {
     "data": {
      "text/plain": [
       "<Axes: >"
      ]
     },
     "execution_count": 76,
     "metadata": {},
     "output_type": "execute_result"
    },
    {
     "data": {
      "image/png": "[encoded data removed]",
      "text/plain": [
       "<Figure size 640x480 with 1 Axes>"
      ]
     },
     "metadata": {},
     "output_type": "display_data"
    }
   ],
   "source": [
    "museum_df['log_city_population'] = np.log(museum_df['city_population'])\n",
    "museum_df['log_city_population'].hist(bins=10)"
   ]
  },
  {
   "cell_type": "markdown",
   "id": "1318c889-c98b-47e6-80f3-32add08dd05d",
   "metadata": {},
   "source": [
    "Still terrible."
   ]
  },
  {
   "cell_type": "markdown",
   "id": "ce84ec05-2256-4e32-8112-3ad0426ec626",
   "metadata": {},
   "source": [
    "### Vatican City and Normalization\n",
    "Vatican City is causing us some problems.  Manually address this by updating the city population value to that of Rome. 2,860,009 according to Wikipedia\n",
    "\n",
    "Then let's see what some alternate normalization techniques look like."
   ]
  },
  {
   "cell_type": "code",
   "execution_count": 77,
   "id": "6bc3057f-a1f2-4082-b1c0-5dd2348d82da",
   "metadata": {},
   "outputs": [
    {
     "data": {
      "text/plain": [
       "array([[<Axes: title={'center': 'city_population'}>,\n",
       "        <Axes: title={'center': 'log_city_population'}>],\n",
       "       [<Axes: title={'center': 'yj_city_population'}>,\n",
       "        <Axes: title={'center': 'bc_city_population'}>]], dtype=object)"
      ]
     },
     "execution_count": 77,
     "metadata": {},
     "output_type": "execute_result"
    },
    {
     "data": {
      "image/png": "[encoded data removed]",
      "text/plain": [
       "<Figure size 640x480 with 4 Axes>"
      ]
     },
     "metadata": {},
     "output_type": "display_data"
    }
   ],
   "source": [
    "museum_df.loc[museum_df['name']=='Vatican Museums', 'city_population'] = 2860009\n",
    "museum_df['log_city_population'] = np.log(museum_df['city_population'])\n",
    "museum_df['yj_city_population'] = power_transform(np.array(museum_df['city_population']).reshape(-1, 1), method='yeo-johnson', standardize=True)\n",
    "museum_df['bc_city_population'] = power_transform(np.array(museum_df['city_population']).reshape(-1, 1), method='box-cox', standardize=True)\n",
    "\n",
    "museum_df.hist(column=['city_population', 'log_city_population', 'yj_city_population', 'bc_city_population'], bins=10)"
   ]
  },
  {
   "cell_type": "markdown",
   "id": "e096ff3f-ee46-4117-a359-e310f06b8412",
   "metadata": {},
   "source": [
    "Some marginally better options, but still not looking promising.  Box-Sox and Yeo-Johnson seem roughly equivalent, but improved over a the log transform.  We'll check Box-Cox from here:"
   ]
  },
  {
   "cell_type": "code",
   "execution_count": 78,
   "id": "f7835054-5aaf-4413-91e7-ecac1a19e9f0",
   "metadata": {},
   "outputs": [
    {
     "data": {
      "text/plain": [
       "<matplotlib.collections.PathCollection at 0x7f0b92501000>"
      ]
     },
     "execution_count": 78,
     "metadata": {},
     "output_type": "execute_result"
    },
    {
     "data": {
      "image/png": "[encoded data removed]",
      "text/plain": [
       "<Figure size 640x480 with 1 Axes>"
      ]
     },
     "metadata": {},
     "output_type": "display_data"
    }
   ],
   "source": [
    "plt.scatter(museum_df['bc_city_population'], museum_df['visitors'])"
   ]
  },
  {
   "cell_type": "markdown",
   "id": "5bdb129b-3916-4a37-a7d9-33a8b3c03b64",
   "metadata": {},
   "source": [
    "This does not look hopeful.  Even ignoring the outlier(s), it's hard to see how a linear regression would differ much from the the mean.  A multivariate regression, might be able to find something, and/or maybe there are some additional feartures that can be engineered."
   ]
  },
  {
   "cell_type": "markdown",
   "id": "41fef82e-080d-45c1-b8bb-4c43c79ae487",
   "metadata": {},
   "source": [
    "### Add a 'museums in city' feature\n",
    "\n",
    "There is no point in running this on on museum dataframe filtered to >= 2,000,000 anual visitors - there is simply too little data and does not reflect what this sort of feature would be trying to capture (i.e. a network effect)"
   ]
  },
  {
   "cell_type": "code",
   "execution_count": 80,
   "id": "c7a362e0-e0ef-4832-b392-82cbedd69b13",
   "metadata": {},
   "outputs": [
    {
     "data": {
      "text/plain": [
       "array([[<Axes: title={'center': 'museums_in_city'}>,\n",
       "        <Axes: title={'center': 'log_museums_in_city'}>],\n",
       "       [<Axes: title={'center': 'yj_museums_in_city'}>,\n",
       "        <Axes: title={'center': 'bc_museums_in_city'}>]], dtype=object)"
      ]
     },
     "execution_count": 80,
     "metadata": {},
     "output_type": "execute_result"
    },
    {
     "data": {
      "image/png": "[encoded data removed]",
      "text/plain": [
       "<Figure size 640x480 with 4 Axes>"
      ]
     },
     "metadata": {},
     "output_type": "display_data"
    }
   ],
   "source": [
    "museum_df['museums_in_city'] = museum_df['name'].groupby(museum_df['city']).transform('count')\n",
    "\n",
    "museum_df['log_museums_in_city'] = np.log(museum_df['museums_in_city'])\n",
    "museum_df['yj_museums_in_city'] = power_transform(np.array(museum_df['museums_in_city']).reshape(-1, 1), method='yeo-johnson', standardize=True)\n",
    "museum_df['bc_museums_in_city'] = power_transform(np.array(museum_df['museums_in_city']).reshape(-1, 1), method='box-cox', standardize=True)\n",
    "\n",
    "museum_df.hist(column=['museums_in_city', 'log_museums_in_city', 'yj_museums_in_city', 'bc_museums_in_city'])"
   ]
  },
  {
   "cell_type": "code",
   "execution_count": 81,
   "id": "1ab87739-1f47-4932-804a-2167dcdab92c",
   "metadata": {},
   "outputs": [
    {
     "data": {
      "text/plain": [
       "<matplotlib.collections.PathCollection at 0x7f0b920d2110>"
      ]
     },
     "execution_count": 81,
     "metadata": {},
     "output_type": "execute_result"
    },
    {
     "data": {
      "image/png": "[encoded data removed]",
      "text/plain": [
       "<Figure size 640x480 with 1 Axes>"
      ]
     },
     "metadata": {},
     "output_type": "display_data"
    }
   ],
   "source": [
    "plt.scatter(museum_df['bc_museums_in_city'], museum_df['visitors'])"
   ]
  },
  {
   "cell_type": "markdown",
   "id": "75c33d7a-45bc-4d33-b901-6bee7d673880",
   "metadata": {},
   "source": [
    "So that does not look like a particularly useful feature either.  Again, maybe this is useful in a context outside of simple linear regression."
   ]
  },
  {
   "cell_type": "markdown",
   "id": "c8db7d7e-6350-4e84-8807-2cfa1a6027ae",
   "metadata": {},
   "source": [
    "# Setup a basic (univariate) Linear Regression"
   ]
  },
  {
   "cell_type": "markdown",
   "id": "aea3fe5a-cc38-4917-aba8-e4fdf4490c28",
   "metadata": {},
   "source": [
    "Oversample the entire set to address our variance problem.\n",
    "\n",
    "Based on some early testing the filtered dataset is too small to get anything resembling a meaningful correlation on this data.  Oversampling seems like a reasonable step to get a sense of what kind of performance we can get on the 'population' feature. "
   ]
  },
  {
   "cell_type": "code",
   "execution_count": 83,
   "id": "466e09ac-350a-4f30-bb1f-805305342657",
   "metadata": {},
   "outputs": [],
   "source": [
    "oversample_df = museum_df.sample(n=1500, replace=True, random_state=13)"
   ]
  },
  {
   "cell_type": "code",
   "execution_count": 98,
   "id": "eceae6e2-8f42-4b94-8398-e2f5fe258d9d",
   "metadata": {},
   "outputs": [],
   "source": [
    "X = np.array(oversample_df['bc_city_population']).reshape(-1, 1)\n",
    "y = np.array(oversample_df['visitors']).reshape(-1, 1)\n",
    "\n",
    "X_train, X_test, y_train, y_test = train_test_split(X, y, test_size = 0.33)"
   ]
  },
  {
   "cell_type": "code",
   "execution_count": 99,
   "id": "1e02c6dd-ae8a-4847-9759-e50bff90525a",
   "metadata": {},
   "outputs": [
    {
     "data": {
      "text/plain": [
       "0.022770633782586813"
      ]
     },
     "execution_count": 99,
     "metadata": {},
     "output_type": "execute_result"
    }
   ],
   "source": [
    "model = LinearRegression()\n",
    "model.fit(X_train, y_train)\n",
    "\n",
    "model.score(X_test, y_test)"
   ]
  },
  {
   "cell_type": "markdown",
   "id": "b6628b09-2618-4334-8bcb-67e7b5846375",
   "metadata": {},
   "source": [
    "Extremely poor result."
   ]
  },
  {
   "cell_type": "code",
   "execution_count": 100,
   "id": "4ca408b9-c8f2-4ad4-af6d-171f71836e9f",
   "metadata": {},
   "outputs": [
    {
     "name": "stdout",
     "output_type": "stream",
     "text": [
      "[3104744.31985684] [[-160110.92571431]] 0.021753207909086858\n"
     ]
    }
   ],
   "source": [
    "print(model.intercept_, model.coef_, model.score(X, y))"
   ]
  },
  {
   "cell_type": "code",
   "execution_count": 101,
   "id": "b0393d3c-ebd7-480d-8229-838ef36e53b2",
   "metadata": {},
   "outputs": [
    {
     "data": {
      "image/png": "[encoded data removed]",
      "text/plain": [
       "<Figure size 640x480 with 1 Axes>"
      ]
     },
     "metadata": {},
     "output_type": "display_data"
    }
   ],
   "source": [
    "y_pred = model.predict(X_test)\n",
    "\n",
    "plt.scatter(X_test, y_test, color ='b')\n",
    "plt.plot(X_test, y_pred, color ='r')\n",
    "plt.show()"
   ]
  },
  {
   "cell_type": "markdown",
   "id": "2b87b829-6584-4ff0-a939-7aa0f548195c",
   "metadata": {},
   "source": [
    "# Multivariate Regression\n",
    "We can attempt to improve the model by adding in the Country variable.  We could add the city variable, but the fact that there is frequently a 1:1 relationship between a museum and a city means that we'd probably end up with a grossly overfit model that simply maps city names to museum names, with some additional error. \n",
    "\n",
    "NOTE: The first step drops the 'museums_in_city' features.  If you didn't run the cells to create them, they should be commented out."
   ]
  },
  {
   "cell_type": "code",
   "execution_count": 111,
   "id": "755a17c3-6f64-4b40-8c56-823a1650bff2",
   "metadata": {},
   "outputs": [],
   "source": [
    "# Clean the dataframe up a bit to focus on country as a second independent.\n",
    "copy_df = oversample_df.drop(columns=[\n",
    "    'name', \n",
    "    'city', \n",
    "    # 'country', \n",
    "    'city_population', \n",
    "    'urban_population', \n",
    "    'longitude', \n",
    "    'latitude', \n",
    "    'museum_type', \n",
    "    'log_city_population', \n",
    "    # 'bc_city_population', \n",
    "    'yj_city_population',\n",
    "    'museums_in_city', \n",
    "    'log_museums_in_city',\n",
    "    'yj_museums_in_city', \n",
    "    'bc_museums_in_city'\n",
    "])\n",
    "\n",
    "df_dummies = pd.get_dummies(copy_df, columns = ['country'])"
   ]
  },
  {
   "cell_type": "code",
   "execution_count": 112,
   "id": "1fa6ab00-ad8f-4094-812a-314153a42914",
   "metadata": {},
   "outputs": [
    {
     "data": {
      "text/html": [
       "<div>\n",
       "<style scoped>\n",
       "    .dataframe tbody tr th:only-of-type {\n",
       "        vertical-align: middle;\n",
       "    }\n",
       "\n",
       "    .dataframe tbody tr th {\n",
       "        vertical-align: top;\n",
       "    }\n",
       "\n",
       "    .dataframe thead th {\n",
       "        text-align: right;\n",
       "    }\n",
       "</style>\n",
       "<table border=\"1\" class=\"dataframe\">\n",
       "  <thead>\n",
       "    <tr style=\"text-align: right;\">\n",
       "      <th></th>\n",
       "      <th>visitors</th>\n",
       "      <th>bc_city_population</th>\n",
       "      <th>country_China</th>\n",
       "      <th>country_France</th>\n",
       "      <th>country_Germany</th>\n",
       "      <th>country_Italy</th>\n",
       "      <th>country_Russia</th>\n",
       "      <th>country_South Korea</th>\n",
       "      <th>country_Spain</th>\n",
       "      <th>country_Taiwan</th>\n",
       "      <th>country_Turkey</th>\n",
       "      <th>country_United Kingdom</th>\n",
       "      <th>country_United States</th>\n",
       "      <th>country_Vatican City</th>\n",
       "    </tr>\n",
       "  </thead>\n",
       "  <tbody>\n",
       "    <tr>\n",
       "      <th>18</th>\n",
       "      <td>2370261</td>\n",
       "      <td>0.662698</td>\n",
       "      <td>False</td>\n",
       "      <td>False</td>\n",
       "      <td>False</td>\n",
       "      <td>False</td>\n",
       "      <td>False</td>\n",
       "      <td>False</td>\n",
       "      <td>False</td>\n",
       "      <td>False</td>\n",
       "      <td>False</td>\n",
       "      <td>True</td>\n",
       "      <td>False</td>\n",
       "      <td>False</td>\n",
       "    </tr>\n",
       "    <tr>\n",
       "      <th>16</th>\n",
       "      <td>2582444</td>\n",
       "      <td>-1.809022</td>\n",
       "      <td>False</td>\n",
       "      <td>False</td>\n",
       "      <td>False</td>\n",
       "      <td>False</td>\n",
       "      <td>False</td>\n",
       "      <td>False</td>\n",
       "      <td>False</td>\n",
       "      <td>True</td>\n",
       "      <td>False</td>\n",
       "      <td>False</td>\n",
       "      <td>False</td>\n",
       "      <td>False</td>\n",
       "    </tr>\n",
       "    <tr>\n",
       "      <th>10</th>\n",
       "      <td>3256433</td>\n",
       "      <td>-1.509393</td>\n",
       "      <td>False</td>\n",
       "      <td>False</td>\n",
       "      <td>False</td>\n",
       "      <td>False</td>\n",
       "      <td>False</td>\n",
       "      <td>False</td>\n",
       "      <td>False</td>\n",
       "      <td>False</td>\n",
       "      <td>False</td>\n",
       "      <td>False</td>\n",
       "      <td>True</td>\n",
       "      <td>False</td>\n",
       "    </tr>\n",
       "    <tr>\n",
       "      <th>16</th>\n",
       "      <td>2582444</td>\n",
       "      <td>-1.809022</td>\n",
       "      <td>False</td>\n",
       "      <td>False</td>\n",
       "      <td>False</td>\n",
       "      <td>False</td>\n",
       "      <td>False</td>\n",
       "      <td>False</td>\n",
       "      <td>False</td>\n",
       "      <td>True</td>\n",
       "      <td>False</td>\n",
       "      <td>False</td>\n",
       "      <td>False</td>\n",
       "      <td>False</td>\n",
       "    </tr>\n",
       "    <tr>\n",
       "      <th>6</th>\n",
       "      <td>3411381</td>\n",
       "      <td>0.786022</td>\n",
       "      <td>False</td>\n",
       "      <td>False</td>\n",
       "      <td>False</td>\n",
       "      <td>False</td>\n",
       "      <td>False</td>\n",
       "      <td>True</td>\n",
       "      <td>False</td>\n",
       "      <td>False</td>\n",
       "      <td>False</td>\n",
       "      <td>False</td>\n",
       "      <td>False</td>\n",
       "      <td>False</td>\n",
       "    </tr>\n",
       "  </tbody>\n",
       "</table>\n",
       "</div>"
      ],
      "text/plain": [
       "    visitors  bc_city_population  country_China  country_France  \\\n",
       "18   2370261            0.662698          False           False   \n",
       "16   2582444           -1.809022          False           False   \n",
       "10   3256433           -1.509393          False           False   \n",
       "16   2582444           -1.809022          False           False   \n",
       "6    3411381            0.786022          False           False   \n",
       "\n",
       "    country_Germany  country_Italy  country_Russia  country_South Korea  \\\n",
       "18            False          False           False                False   \n",
       "16            False          False           False                False   \n",
       "10            False          False           False                False   \n",
       "16            False          False           False                False   \n",
       "6             False          False           False                 True   \n",
       "\n",
       "    country_Spain  country_Taiwan  country_Turkey  country_United Kingdom  \\\n",
       "18          False           False           False                    True   \n",
       "16          False            True           False                   False   \n",
       "10          False           False           False                   False   \n",
       "16          False            True           False                   False   \n",
       "6           False           False           False                   False   \n",
       "\n",
       "    country_United States  country_Vatican City  \n",
       "18                  False                 False  \n",
       "16                  False                 False  \n",
       "10                   True                 False  \n",
       "16                  False                 False  \n",
       "6                   False                 False  "
      ]
     },
     "execution_count": 112,
     "metadata": {},
     "output_type": "execute_result"
    }
   ],
   "source": [
    "df_dummies.head()"
   ]
  },
  {
   "cell_type": "code",
   "execution_count": 113,
   "id": "d232fe91-94b1-4c3e-8e03-1a5de5552c06",
   "metadata": {},
   "outputs": [],
   "source": [
    "X = df_dummies.drop('visitors',axis= 1) \n",
    "y = df_dummies['visitors'] \n",
    "\n",
    "X_train, X_test, y_train, y_test = train_test_split(X, y, test_size = 0.33)"
   ]
  },
  {
   "cell_type": "code",
   "execution_count": 114,
   "id": "64400d68-fdc9-49d0-abd6-2073ff1146cd",
   "metadata": {},
   "outputs": [
    {
     "data": {
      "text/plain": [
       "0.46953790559161757"
      ]
     },
     "execution_count": 114,
     "metadata": {},
     "output_type": "execute_result"
    }
   ],
   "source": [
    "model = LinearRegression()\n",
    "model.fit(X_train, y_train)\n",
    "\n",
    "model.score(X_test, y_test)"
   ]
  },
  {
   "cell_type": "code",
   "execution_count": 115,
   "id": "11d32594-3a41-44d9-af37-75e6d1690d69",
   "metadata": {},
   "outputs": [
    {
     "name": "stdout",
     "output_type": "stream",
     "text": [
      "3064169.459474995 [ -155384.4619079   -414817.52731589  1306444.08521495 -1005801.766753\n",
      " -1121746.76532924  -313198.05510637   469347.20201234  -674976.81271526\n",
      "  -804550.46313735   174728.87132372   417089.27492393    34823.74697259\n",
      "  1932658.20990958] 0.4417673763921375\n"
     ]
    }
   ],
   "source": [
    "print(model.intercept_, model.coef_, model.score(X, y))"
   ]
  },
  {
   "cell_type": "markdown",
   "id": "a7590d3d-dceb-457f-b921-de372297b1b4",
   "metadata": {},
   "source": [
    "### Thoughts on the model.\n",
    "\n",
    "This is a lot better, but still not great. Some imrpovement in the R2 is probably due to increasing the number of independents in regression, and has little to do with any predictive power.  That said, the bigger concern here is that this is either overfit, or more likely is correlated with some other factor (ex. tourism levels by country) that is partially captured in the country feature itself."
   ]
  },
  {
   "cell_type": "markdown",
   "id": "4b1489d5-e6ff-4659-82ba-126f6739259d",
   "metadata": {},
   "source": [
    "# Preliminary Recommendation\n",
    "\n",
    "At this point it is clear that without more sophisticated/complicated feature engineering, and or modeling, we're not going to achive a satisfactory output.  Simple linear regression is probably not suited to the requirements using these features.  If the hypothesis is that museum attendance is correlated postitively with city size, then on it's own, city size is not sufficient to draw this conclusion.\n",
    "\n",
    "### Last Ditch Effort at a Simple Solution\n",
    "\n",
    "It is clear that there are outliers in the data that confound the modeling to some degree. While it is not a good idea to remove data without statistical/analytical justification, to further investigate the basic suitabilty of linear regression to this analysis we'll remove outliers from the original dataset and walk through the modeling steps again."
   ]
  },
  {
   "cell_type": "markdown",
   "id": "57386545-340d-42be-86c9-773223fab03d",
   "metadata": {},
   "source": [
    "### Outlier Detection and Removal"
   ]
  },
  {
   "cell_type": "code",
   "execution_count": 117,
   "id": "aeed0004-1445-48b2-806d-2496d7d0cbe1",
   "metadata": {},
   "outputs": [],
   "source": [
    "# Drop the normalized columns we generated.\n",
    "museum_alt_df = museum_df.drop(columns=['bc_city_population', 'yj_city_population', 'bc_museums_in_city', 'yj_museums_in_city'])"
   ]
  },
  {
   "cell_type": "code",
   "execution_count": 118,
   "id": "b196dda6-ccaa-485b-b0c5-5c4528e0c639",
   "metadata": {},
   "outputs": [
    {
     "data": {
      "text/plain": [
       "<matplotlib.collections.PathCollection at 0x7f0b91cd7430>"
      ]
     },
     "execution_count": 118,
     "metadata": {},
     "output_type": "execute_result"
    },
    {
     "data": {
      "image/png": "[encoded data removed]",
      "text/plain": [
       "<Figure size 640x480 with 1 Axes>"
      ]
     },
     "metadata": {},
     "output_type": "display_data"
    }
   ],
   "source": [
    "from sklearn.ensemble import IsolationForest\n",
    "\n",
    "# outlier_df = museum_df[['name', 'visitors', 'city_population']].copy()\n",
    "outlier_df = museum_alt_df.copy()\n",
    "\n",
    "model = IsolationForest(max_samples='auto')\n",
    "model.fit(outlier_df[['visitors']])\n",
    "\n",
    "outlier_df['scores'] = model.decision_function(outlier_df[['visitors']])\n",
    "outlier_df['anomaly'] = model.predict(outlier_df[['visitors']])\n",
    "\n",
    "outliers_removed_df = outlier_df[outlier_df['anomaly'].eq(1)].copy()\n",
    "\n",
    "plt.scatter(outliers_removed_df['city_population'], outliers_removed_df['visitors'])"
   ]
  },
  {
   "cell_type": "markdown",
   "id": "c0816058-78bb-4a44-a8fa-91ff9a70c1bd",
   "metadata": {},
   "source": [
    "Looking marginally better."
   ]
  },
  {
   "cell_type": "code",
   "execution_count": 119,
   "id": "7fe00cc0-9b8a-4d81-bc2d-cf5e9b788f3a",
   "metadata": {},
   "outputs": [
    {
     "data": {
      "text/plain": [
       "array([[<Axes: title={'center': 'city_population'}>,\n",
       "        <Axes: title={'center': 'log_city_population'}>],\n",
       "       [<Axes: title={'center': 'yj_city_population'}>,\n",
       "        <Axes: title={'center': 'bc_city_population'}>]], dtype=object)"
      ]
     },
     "execution_count": 119,
     "metadata": {},
     "output_type": "execute_result"
    },
    {
     "data": {
      "image/png": "[encoded data removed]",
      "text/plain": [
       "<Figure size 640x480 with 4 Axes>"
      ]
     },
     "metadata": {},
     "output_type": "display_data"
    }
   ],
   "source": [
    "outliers_removed_df.loc[museum_df['name']=='Vatican Museums', 'city_population'] = 2860009\n",
    "outliers_removed_df['log_city_population'] = np.log(outliers_removed_df['city_population'])\n",
    "outliers_removed_df['yj_city_population'] = power_transform(np.array(outliers_removed_df['city_population']).reshape(-1, 1), method='yeo-johnson', standardize=True)\n",
    "outliers_removed_df['bc_city_population'] = power_transform(np.array(outliers_removed_df['city_population']).reshape(-1, 1), method='box-cox', standardize=True)\n",
    "\n",
    "outliers_removed_df.hist(column=['city_population', 'log_city_population', 'yj_city_population', 'bc_city_population'], bins=10)"
   ]
  },
  {
   "cell_type": "markdown",
   "id": "0cb4b809-109f-4a08-a45e-4f0f0af4f865",
   "metadata": {},
   "source": [
    "Still looking ok."
   ]
  },
  {
   "cell_type": "code",
   "execution_count": 122,
   "id": "77f2bace-0b4f-4f0e-8246-b7c55bcc0ee3",
   "metadata": {},
   "outputs": [
    {
     "data": {
      "text/plain": [
       "-0.007083919592675514"
      ]
     },
     "execution_count": 122,
     "metadata": {},
     "output_type": "execute_result"
    }
   ],
   "source": [
    "oversample_outliers_removed_df = outliers_removed_df.sample(n=1500, replace=True, random_state=88)\n",
    "\n",
    "X = np.array(oversample_outliers_removed_df['bc_city_population']).reshape(-1, 1)\n",
    "y = np.array(oversample_outliers_removed_df['visitors']).reshape(-1, 1)\n",
    "\n",
    "X_train, X_test, y_train, y_test = train_test_split(X, y, test_size = 0.33)\n",
    "\n",
    "alt_model = LinearRegression()\n",
    "alt_model.fit(X_train, y_train)\n",
    "\n",
    "alt_model.score(X_test, y_test)"
   ]
  },
  {
   "cell_type": "code",
   "execution_count": 123,
   "id": "cc8ab463-e53e-4106-ba5c-f9c014044c20",
   "metadata": {},
   "outputs": [
    {
     "name": "stdout",
     "output_type": "stream",
     "text": [
      "[2758361.91792014] [[24657.56756884]] 0.0006237900769435756\n"
     ]
    }
   ],
   "source": [
    "print(alt_model.intercept_, alt_model.coef_, alt_model.score(X, y))"
   ]
  },
  {
   "cell_type": "code",
   "execution_count": 124,
   "id": "ca81e1d8-d702-41de-a847-66a34503125b",
   "metadata": {},
   "outputs": [
    {
     "data": {
      "image/png": "[encoded data removed]",
      "text/plain": [
       "<Figure size 640x480 with 1 Axes>"
      ]
     },
     "metadata": {},
     "output_type": "display_data"
    }
   ],
   "source": [
    "y_pred = alt_model.predict(X_test)\n",
    "\n",
    "plt.scatter(X_test, y_test, color ='b')\n",
    "plt.plot(X_test, y_pred, color ='r')\n",
    "plt.show()"
   ]
  },
  {
   "cell_type": "markdown",
   "id": "e600e3d8-b6d2-4ca1-baee-2e543a9b0541",
   "metadata": {},
   "source": [
    "Still terrible."
   ]
  },
  {
   "cell_type": "code",
   "execution_count": 126,
   "id": "24e1f4f9-bfc2-46c6-a9c5-048ea87bd660",
   "metadata": {},
   "outputs": [],
   "source": [
    "# Prep the dataset for the multivariate regression ...\n",
    "oversample_outliers_removed_copy_df = oversample_outliers_removed_df.drop(columns=[\n",
    "    'name', \n",
    "    'city', \n",
    "    # 'country', \n",
    "    'city_population', \n",
    "    'urban_population', \n",
    "    'longitude', \n",
    "    'latitude', \n",
    "    'museum_type', \n",
    "    'log_city_population', \n",
    "    # 'bc_city_population', \n",
    "    'yj_city_population',\n",
    "    'museums_in_city', \n",
    "    'log_museums_in_city',\n",
    "    # 'yj_museums_in_city', \n",
    "    # 'bc_museums_in_city'\n",
    "])\n",
    "\n",
    "df_dummies = pd.get_dummies(copy_df, columns = ['country'])"
   ]
  },
  {
   "cell_type": "code",
   "execution_count": 127,
   "id": "9753b4ad-879a-457e-83fd-8b836f09fd97",
   "metadata": {},
   "outputs": [
    {
     "data": {
      "text/html": [
       "<div>\n",
       "<style scoped>\n",
       "    .dataframe tbody tr th:only-of-type {\n",
       "        vertical-align: middle;\n",
       "    }\n",
       "\n",
       "    .dataframe tbody tr th {\n",
       "        vertical-align: top;\n",
       "    }\n",
       "\n",
       "    .dataframe thead th {\n",
       "        text-align: right;\n",
       "    }\n",
       "</style>\n",
       "<table border=\"1\" class=\"dataframe\">\n",
       "  <thead>\n",
       "    <tr style=\"text-align: right;\">\n",
       "      <th></th>\n",
       "      <th>visitors</th>\n",
       "      <th>bc_city_population</th>\n",
       "      <th>country_China</th>\n",
       "      <th>country_France</th>\n",
       "      <th>country_Germany</th>\n",
       "      <th>country_Italy</th>\n",
       "      <th>country_Russia</th>\n",
       "      <th>country_South Korea</th>\n",
       "      <th>country_Spain</th>\n",
       "      <th>country_Taiwan</th>\n",
       "      <th>country_Turkey</th>\n",
       "      <th>country_United Kingdom</th>\n",
       "      <th>country_United States</th>\n",
       "      <th>country_Vatican City</th>\n",
       "    </tr>\n",
       "  </thead>\n",
       "  <tbody>\n",
       "    <tr>\n",
       "      <th>18</th>\n",
       "      <td>2370261</td>\n",
       "      <td>0.662698</td>\n",
       "      <td>False</td>\n",
       "      <td>False</td>\n",
       "      <td>False</td>\n",
       "      <td>False</td>\n",
       "      <td>False</td>\n",
       "      <td>False</td>\n",
       "      <td>False</td>\n",
       "      <td>False</td>\n",
       "      <td>False</td>\n",
       "      <td>True</td>\n",
       "      <td>False</td>\n",
       "      <td>False</td>\n",
       "    </tr>\n",
       "    <tr>\n",
       "      <th>16</th>\n",
       "      <td>2582444</td>\n",
       "      <td>-1.809022</td>\n",
       "      <td>False</td>\n",
       "      <td>False</td>\n",
       "      <td>False</td>\n",
       "      <td>False</td>\n",
       "      <td>False</td>\n",
       "      <td>False</td>\n",
       "      <td>False</td>\n",
       "      <td>True</td>\n",
       "      <td>False</td>\n",
       "      <td>False</td>\n",
       "      <td>False</td>\n",
       "      <td>False</td>\n",
       "    </tr>\n",
       "    <tr>\n",
       "      <th>10</th>\n",
       "      <td>3256433</td>\n",
       "      <td>-1.509393</td>\n",
       "      <td>False</td>\n",
       "      <td>False</td>\n",
       "      <td>False</td>\n",
       "      <td>False</td>\n",
       "      <td>False</td>\n",
       "      <td>False</td>\n",
       "      <td>False</td>\n",
       "      <td>False</td>\n",
       "      <td>False</td>\n",
       "      <td>False</td>\n",
       "      <td>True</td>\n",
       "      <td>False</td>\n",
       "    </tr>\n",
       "    <tr>\n",
       "      <th>16</th>\n",
       "      <td>2582444</td>\n",
       "      <td>-1.809022</td>\n",
       "      <td>False</td>\n",
       "      <td>False</td>\n",
       "      <td>False</td>\n",
       "      <td>False</td>\n",
       "      <td>False</td>\n",
       "      <td>False</td>\n",
       "      <td>False</td>\n",
       "      <td>True</td>\n",
       "      <td>False</td>\n",
       "      <td>False</td>\n",
       "      <td>False</td>\n",
       "      <td>False</td>\n",
       "    </tr>\n",
       "    <tr>\n",
       "      <th>6</th>\n",
       "      <td>3411381</td>\n",
       "      <td>0.786022</td>\n",
       "      <td>False</td>\n",
       "      <td>False</td>\n",
       "      <td>False</td>\n",
       "      <td>False</td>\n",
       "      <td>False</td>\n",
       "      <td>True</td>\n",
       "      <td>False</td>\n",
       "      <td>False</td>\n",
       "      <td>False</td>\n",
       "      <td>False</td>\n",
       "      <td>False</td>\n",
       "      <td>False</td>\n",
       "    </tr>\n",
       "  </tbody>\n",
       "</table>\n",
       "</div>"
      ],
      "text/plain": [
       "    visitors  bc_city_population  country_China  country_France  \\\n",
       "18   2370261            0.662698          False           False   \n",
       "16   2582444           -1.809022          False           False   \n",
       "10   3256433           -1.509393          False           False   \n",
       "16   2582444           -1.809022          False           False   \n",
       "6    3411381            0.786022          False           False   \n",
       "\n",
       "    country_Germany  country_Italy  country_Russia  country_South Korea  \\\n",
       "18            False          False           False                False   \n",
       "16            False          False           False                False   \n",
       "10            False          False           False                False   \n",
       "16            False          False           False                False   \n",
       "6             False          False           False                 True   \n",
       "\n",
       "    country_Spain  country_Taiwan  country_Turkey  country_United Kingdom  \\\n",
       "18          False           False           False                    True   \n",
       "16          False            True           False                   False   \n",
       "10          False           False           False                   False   \n",
       "16          False            True           False                   False   \n",
       "6           False           False           False                   False   \n",
       "\n",
       "    country_United States  country_Vatican City  \n",
       "18                  False                 False  \n",
       "16                  False                 False  \n",
       "10                   True                 False  \n",
       "16                  False                 False  \n",
       "6                   False                 False  "
      ]
     },
     "execution_count": 127,
     "metadata": {},
     "output_type": "execute_result"
    }
   ],
   "source": [
    "df_dummies.head()"
   ]
  },
  {
   "cell_type": "code",
   "execution_count": 128,
   "id": "627da6ca-9bd7-40a2-b55e-42e398d3ca27",
   "metadata": {},
   "outputs": [
    {
     "data": {
      "text/plain": [
       "0.44019232300693467"
      ]
     },
     "execution_count": 128,
     "metadata": {},
     "output_type": "execute_result"
    }
   ],
   "source": [
    "X = df_dummies.drop('visitors',axis= 1) \n",
    "y = df_dummies['visitors'] \n",
    "\n",
    "X_train, X_test, y_train, y_test = train_test_split(X, y, test_size = 0.33)\n",
    "\n",
    "model = LinearRegression()\n",
    "model.fit(X_train, y_train)\n",
    "\n",
    "model.score(X_test, y_test)"
   ]
  },
  {
   "cell_type": "code",
   "execution_count": 129,
   "id": "8794a4e7-66fb-441a-8aa3-008dfed09fe0",
   "metadata": {},
   "outputs": [
    {
     "name": "stdout",
     "output_type": "stream",
     "text": [
      "5.702358909400946e+19 [-2.02497171e+05 -5.70235891e+19 -5.70235891e+19 -5.70235891e+19\n",
      " -5.70235891e+19 -5.70235891e+19 -5.70235891e+19 -5.70235891e+19\n",
      " -5.70235891e+19 -5.70235891e+19 -5.70235891e+19 -5.70235891e+19\n",
      " -5.70235891e+19] 0.43976127630079065\n"
     ]
    }
   ],
   "source": [
    "print(model.intercept_, model.coef_, model.score(X, y))"
   ]
  },
  {
   "cell_type": "markdown",
   "id": "83325556-901c-4d96-8c24-c2d84ae5472d",
   "metadata": {},
   "source": [
    "Even worse."
   ]
  },
  {
   "cell_type": "markdown",
   "id": "d69783bf-60cb-4b64-8802-86604ad9ead3",
   "metadata": {},
   "source": [
    "# Summary\n",
    "Preliminary recommendation holds.\n",
    "\n",
    "The features tested here are not suited to a simple linear regression that supports the implicit hypothesis."
   ]
  }
 ],
 "metadata": {
  "kernelspec": {
   "display_name": "Python 3 (ipykernel)",
   "language": "python",
   "name": "python3"
  },
  "language_info": {
   "codemirror_mode": {
    "name": "ipython",
    "version": 3
   },
   "file_extension": ".py",
   "mimetype": "text/x-python",
   "name": "python",
   "nbconvert_exporter": "python",
   "pygments_lexer": "ipython3",
   "version": "3.10.11"
  }
 },
 "nbformat": 4,
 "nbformat_minor": 5
}
