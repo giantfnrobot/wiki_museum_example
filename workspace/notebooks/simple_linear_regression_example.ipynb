{
 "cells": [
  {
   "cell_type": "markdown",
   "id": "f51e5e3a-d8ed-4550-8f5b-287f05a479d1",
   "metadata": {},
   "source": [
    "# Imports\n",
    "\n",
    "Import the wheel containing the parser class (and some other stuff)."
   ]
  },
  {
   "cell_type": "code",
   "execution_count": 6,
   "id": "ebb363fe-bce5-4f5b-88dc-c6007c9fc25d",
   "metadata": {},
   "outputs": [],
   "source": [
    "import matplotlib.pyplot as plt\n",
    "import numpy as np\n",
    "\n",
    "import pandas as pd\n",
    "\n",
    "from sklearn.preprocessing import power_transform\n",
    "from sklearn.model_selection import train_test_split\n",
    "from sklearn.pipeline import Pipeline\n",
    "from sklearn.preprocessing import PowerTransformer\n",
    "from sklearn.preprocessing import StandardScaler\n",
    "from sklearn.linear_model import LinearRegression\n",
    "\n",
    "from utils.fetcher import Fetcher as f\n",
    "from utils.museum import Museum\n",
    "from enricher import Enricher as e"
   ]
  },
  {
   "cell_type": "markdown",
   "id": "86d54c6d-8922-4096-bde4-5c1d783172d8",
   "metadata": {},
   "source": [
    "# Fetch the Dataframe Using the Parser Class\n",
    "The parser will fetch a collection of Wikipedia data and dump it into a Dataframe for easier use by a Data Scientist. Once this step is completed there no further use for the parser.\n",
    "\n",
    "The ```fetch_museum_data method``` will take a ```minimum_visitors``` argument that filters the list of museums returned (to those with a visitors value meeting or exceeding the parameter value).  Use this to scope the query.\n",
    "\n",
    "NOTE: This is a relatively slow process - since the parser is crawling the Wikipedia page's museum and city links.  "
   ]
  },
  {
   "cell_type": "code",
   "execution_count": 8,
   "id": "afb1f9cb-22b2-4f7b-882a-a532b7a7ce14",
   "metadata": {
    "scrolled": true
   },
   "outputs": [
    {
     "name": "stdout",
     "output_type": "stream",
     "text": [
      "fetchhing museum list ...\n",
      "enriching record for Louvre ...\n",
      "fetchhing city poplulation data for Louvre ...\n",
      "fetchhing museum details for Louvre ...\n",
      "enriching record for Vatican Museums ...\n",
      "fetchhing city poplulation data for Vatican Museums ...\n",
      "fetchhing museum details for Vatican Museums ...\n",
      "enriching record for Natural History Museum ...\n",
      "fetchhing city poplulation data for Natural History Museum ...\n",
      "fetchhing museum details for Natural History Museum ...\n",
      "enriching record for British Museum ...\n",
      "fetchhing museum details for British Museum ...\n",
      "enriching record for National Museum of Natural History ...\n",
      "fetchhing city poplulation data for National Museum of Natural History ...\n",
      "fetchhing museum details for National Museum of Natural History ...\n",
      "enriching record for Tate Modern ...\n",
      "fetchhing museum details for Tate Modern ...\n",
      "enriching record for National Museum of Korea ...\n",
      "fetchhing city poplulation data for National Museum of Korea ...\n",
      "fetchhing museum details for National Museum of Korea ...\n",
      "enriching record for Guangdong Museum ...\n",
      "fetchhing city poplulation data for Guangdong Museum ...\n",
      "fetchhing museum details for Guangdong Museum ...\n",
      "enriching record for Mevlana Museum ...\n",
      "fetchhing city poplulation data for Mevlana Museum ...\n",
      "fetchhing museum details for Mevlana Museum ...\n",
      "enriching record for Musée d'Orsay ...\n",
      "fetchhing museum details for Musée d'Orsay ...\n",
      "enriching record for National Gallery of Art ...\n",
      "fetchhing museum details for National Gallery of Art ...\n",
      "enriching record for Metropolitan Museum of Art ...\n",
      "fetchhing city poplulation data for Metropolitan Museum of Art ...\n",
      "fetchhing museum details for Metropolitan Museum of Art ...\n",
      "enriching record for Centre Pompidou ...\n",
      "fetchhing museum details for Centre Pompidou ...\n",
      "enriching record for State Hermitage Museum ...\n",
      "fetchhing city poplulation data for State Hermitage Museum ...\n",
      "fetchhing museum details for State Hermitage Museum ...\n",
      "enriching record for National Gallery ...\n",
      "fetchhing museum details for National Gallery ...\n",
      "enriching record for State Russian Museum ...\n",
      "fetchhing museum details for State Russian Museum ...\n",
      "enriching record for National Museum of Marine Science and Technology ...\n",
      "fetchhing city poplulation data for National Museum of Marine Science and Technology ...\n",
      "fetchhing museum details for National Museum of Marine Science and Technology ...\n",
      "enriching record for Prado Museum ...\n",
      "fetchhing city poplulation data for Prado Museum ...\n",
      "fetchhing museum details for Prado Museum ...\n",
      "enriching record for Victoria and Albert Museum ...\n",
      "fetchhing museum details for Victoria and Albert Museum ...\n",
      "enriching record for London Science Museum ...\n",
      "fetchhing museum details for London Science Museum ...\n",
      "enriching record for Chinese Aviation Museum ...\n",
      "fetchhing city poplulation data for Chinese Aviation Museum ...\n",
      "fetchhing museum details for Chinese Aviation Museum ...\n",
      "enriching record for National Museum of Natural Science ...\n",
      "fetchhing city poplulation data for National Museum of Natural Science ...\n",
      "fetchhing museum details for National Museum of Natural Science ...\n",
      "enriching record for Galleria degli Uffizi ...\n",
      "fetchhing city poplulation data for Galleria degli Uffizi ...\n",
      "fetchhing museum details for Galleria degli Uffizi ...\n",
      "enriching record for Museum of Modern Art ...\n",
      "fetchhing museum details for Museum of Modern Art ...\n",
      "enriching record for Topography of Terror ...\n",
      "fetchhing city poplulation data for Topography of Terror ...\n",
      "fetchhing museum details for Topography of Terror ...\n",
      "enriching record for M+ ...\n",
      "fetchhing city poplulation data for M+ ...\n",
      "fetchhing museum details for M+ ...\n",
      "enriching record for Opium War Museum ...\n",
      "fetchhing city poplulation data for Opium War Museum ...\n",
      "enriching record for Cité des Sciences et de l'Industrie ...\n",
      "fetchhing museum details for Cité des Sciences et de l'Industrie ...\n",
      "enriching record for National Museum of Scotland ...\n",
      "fetchhing city poplulation data for National Museum of Scotland ...\n",
      "fetchhing museum details for National Museum of Scotland ...\n",
      "enriching record for State Tretyakov Gallery ...\n",
      "fetchhing city poplulation data for State Tretyakov Gallery ...\n",
      "fetchhing museum details for State Tretyakov Gallery ...\n",
      "enriching record for National Taiwan Science Education Center ...\n",
      "fetchhing city poplulation data for National Taiwan Science Education Center ...\n",
      "fetchhing museum details for National Taiwan Science Education Center ...\n",
      "enriching record for National Science and Technology Museum ...\n",
      "fetchhing city poplulation data for National Science and Technology Museum ...\n",
      "fetchhing museum details for National Science and Technology Museum ...\n",
      "enriching record for National Museum of Modern and Contemporary Art ...\n",
      "fetchhing museum details for National Museum of Modern and Contemporary Art ...\n",
      "enriching record for Smithsonian Museum of American History ...\n",
      "fetchhing museum details for Smithsonian Museum of American History ...\n",
      "enriching record for Rijksmuseum ...\n",
      "fetchhing city poplulation data for Rijksmuseum ...\n",
      "fetchhing museum details for Rijksmuseum ...\n",
      "enriching record for California Science Center ...\n",
      "fetchhing city poplulation data for California Science Center ...\n",
      "fetchhing museum details for California Science Center ...\n",
      "enriching record for National Museum of China ...\n",
      "fetchhing museum details for National Museum of China ...\n",
      "enriching record for Royal Museums Greenwich ...\n",
      "fetchhing museum details for Royal Museums Greenwich ...\n",
      "enriching record for Nanjing Museum ...\n",
      "fetchhing city poplulation data for Nanjing Museum ...\n",
      "fetchhing museum details for Nanjing Museum ...\n",
      "enriching record for Zhejiang Museum of Natural History ...\n",
      "fetchhing city poplulation data for Zhejiang Museum of Natural History ...\n",
      "fetchhing museum details for Zhejiang Museum of Natural History ...\n",
      "enriching record for National Gallery of Victoria ...\n",
      "fetchhing city poplulation data for National Gallery of Victoria ...\n",
      "fetchhing museum details for National Gallery of Victoria ...\n",
      "enriching record for Jianchuan Museum Cluster ...\n",
      "fetchhing city poplulation data for Jianchuan Museum Cluster ...\n",
      "fetchhing museum details for Jianchuan Museum Cluster ...\n",
      "enriching record for Houston Museum of Natural Science ...\n",
      "fetchhing city poplulation data for Houston Museum of Natural Science ...\n",
      "fetchhing museum details for Houston Museum of Natural Science ...\n",
      "enriching record for Tokyo Metropolitan Art Museum ...\n",
      "fetchhing city poplulation data for Tokyo Metropolitan Art Museum ...\n",
      "fetchhing museum details for Tokyo Metropolitan Art Museum ...\n",
      "enriching record for Changzhou Museum ...\n",
      "fetchhing city poplulation data for Changzhou Museum ...\n",
      "fetchhing museum details for Changzhou Museum ...\n",
      "enriching record for Humboldt Forum ...\n",
      "fetchhing museum details for Humboldt Forum ...\n",
      "enriching record for National Museum of Anthropology ...\n",
      "fetchhing city poplulation data for National Museum of Anthropology ...\n",
      "fetchhing museum details for National Museum of Anthropology ...\n",
      "enriching record for National Museum of History ...\n",
      "fetchhing museum details for National Museum of History ...\n",
      "enriching record for National Air and Space Museum ...\n",
      "fetchhing museum details for National Air and Space Museum ...\n",
      "enriching record for Kaohsiung Museum of Fine Arts ...\n",
      "fetchhing museum details for Kaohsiung Museum of Fine Arts ...\n",
      "enriching record for Acropolis Museum ...\n",
      "fetchhing city poplulation data for Acropolis Museum ...\n",
      "fetchhing museum details for Acropolis Museum ...\n",
      "enriching record for China Science and Technology Museum ...\n",
      "fetchhing museum details for China Science and Technology Museum ...\n",
      "enriching record for Galleria dell'Accademia ...\n",
      "fetchhing museum details for Galleria dell'Accademia ...\n",
      "enriching record for Suzhou Museum ...\n",
      "fetchhing city poplulation data for Suzhou Museum ...\n",
      "fetchhing museum details for Suzhou Museum ...\n",
      "enriching record for Chengdu Museum ...\n",
      "fetchhing museum details for Chengdu Museum ...\n",
      "enriching record for Shanghai Science and Technology Museum ...\n",
      "fetchhing city poplulation data for Shanghai Science and Technology Museum ...\n",
      "fetchhing museum details for Shanghai Science and Technology Museum ...\n",
      "enriching record for The National Art Center, Tokyo ...\n",
      "fetchhing museum details for The National Art Center, Tokyo ...\n",
      "enriching record for Louis Vuitton Foundation ...\n",
      "fetchhing museum details for Louis Vuitton Foundation ...\n",
      "enriching record for Tokyo National Museum ...\n",
      "fetchhing museum details for Tokyo National Museum ...\n",
      "enriching record for National Museum, Krakow ...\n",
      "fetchhing city poplulation data for National Museum, Krakow ...\n",
      "fetchhing museum details for National Museum, Krakow ...\n",
      "enriching record for Centro Cultural Banco do Brasil ...\n",
      "fetchhing city poplulation data for Centro Cultural Banco do Brasil ...\n",
      "fetchhing museum details for Centro Cultural Banco do Brasil ...\n",
      "enriching record for Van Gogh Museum ...\n",
      "fetchhing museum details for Van Gogh Museum ...\n",
      "enriching record for National Museum of Nature and Science ...\n",
      "fetchhing museum details for National Museum of Nature and Science ...\n",
      "enriching record for Kunsthistorisches Museum ...\n",
      "fetchhing city poplulation data for Kunsthistorisches Museum ...\n",
      "fetchhing museum details for Kunsthistorisches Museum ...\n",
      "enriching record for Tianjin Natural History Museum ...\n",
      "fetchhing city poplulation data for Tianjin Natural History Museum ...\n",
      "fetchhing museum details for Tianjin Natural History Museum ...\n",
      "enriching record for Palacio de Cristal del Retiro ...\n",
      "fetchhing museum details for Palacio de Cristal del Retiro ...\n",
      "enriching record for Guggenheim Museum Bilbao ...\n",
      "fetchhing city poplulation data for Guggenheim Museum Bilbao ...\n",
      "fetchhing museum details for Guggenheim Museum Bilbao ...\n",
      "enriching record for Scottish National Gallery ...\n",
      "fetchhing museum details for Scottish National Gallery ...\n",
      "enriching record for National Gallery Singapore ...\n",
      "fetchhing city poplulation data for National Gallery Singapore ...\n",
      "fetchhing museum details for National Gallery Singapore ...\n",
      "enriching record for Museo Reina Sofía ...\n",
      "fetchhing museum details for Museo Reina Sofía ...\n",
      "enriching record for Museum of European and Mediterranean Civilisations ...\n",
      "fetchhing city poplulation data for Museum of European and Mediterranean Civilisations ...\n",
      "fetchhing museum details for Museum of European and Mediterranean Civilisations ...\n"
     ]
    }
   ],
   "source": [
    "from museum_data_compiler import MuseumParser\n",
    "\n",
    "parser = MuseumParser()\n",
    "museum_df = parser.fetch_museum_data()"
   ]
  },
  {
   "cell_type": "markdown",
   "id": "92489d0a-1750-4350-9cb5-313b0dcd9e56",
   "metadata": {},
   "source": [
    "# Or ... Fetch the Dataframe From a CSV Compiled Previously\n",
    "The 'run_job' script in the Parser container runs the code in the cell above and dumps the CVS to a file on disk.  To speed things up a bit we can just relaod a previoulsy parsed set of Wikipedia data."
   ]
  },
  {
   "cell_type": "code",
   "execution_count": 7,
   "id": "186c9e09-bdbe-4334-a254-ecb3319c5ff5",
   "metadata": {},
   "outputs": [],
   "source": [
    "filename = '../data/museum_data_1702001985889696.csv'\n",
    "museum_df = pd.read_csv(filename, sep='\\t')"
   ]
  },
  {
   "cell_type": "code",
   "execution_count": 9,
   "id": "bbd18920-3d47-4e1f-8eb6-4c1874e2e06b",
   "metadata": {},
   "outputs": [
    {
     "data": {
      "text/html": [
       "<div>\n",
       "<style scoped>\n",
       "    .dataframe tbody tr th:only-of-type {\n",
       "        vertical-align: middle;\n",
       "    }\n",
       "\n",
       "    .dataframe tbody tr th {\n",
       "        vertical-align: top;\n",
       "    }\n",
       "\n",
       "    .dataframe thead th {\n",
       "        text-align: right;\n",
       "    }\n",
       "</style>\n",
       "<table border=\"1\" class=\"dataframe\">\n",
       "  <thead>\n",
       "    <tr style=\"text-align: right;\">\n",
       "      <th></th>\n",
       "      <th>name</th>\n",
       "      <th>city</th>\n",
       "      <th>country</th>\n",
       "      <th>visitors</th>\n",
       "      <th>city_population</th>\n",
       "      <th>urban_population</th>\n",
       "      <th>longitude</th>\n",
       "      <th>latitude</th>\n",
       "      <th>museum_type</th>\n",
       "    </tr>\n",
       "  </thead>\n",
       "  <tbody>\n",
       "    <tr>\n",
       "      <th>0</th>\n",
       "      <td>Louvre</td>\n",
       "      <td>Paris</td>\n",
       "      <td>France</td>\n",
       "      <td>7726321</td>\n",
       "      <td>2102650</td>\n",
       "      <td>10858852.0</td>\n",
       "      <td>NaN</td>\n",
       "      <td>NaN</td>\n",
       "      <td>Art museum and historic site</td>\n",
       "    </tr>\n",
       "    <tr>\n",
       "      <th>1</th>\n",
       "      <td>Vatican Museums</td>\n",
       "      <td>Vatican City</td>\n",
       "      <td>Vatican City</td>\n",
       "      <td>5080866</td>\n",
       "      <td>764</td>\n",
       "      <td>NaN</td>\n",
       "      <td>41.90639</td>\n",
       "      <td>12.45444</td>\n",
       "      <td>Art museum</td>\n",
       "    </tr>\n",
       "    <tr>\n",
       "      <th>2</th>\n",
       "      <td>Natural History Museum</td>\n",
       "      <td>London</td>\n",
       "      <td>United Kingdom</td>\n",
       "      <td>4654608</td>\n",
       "      <td>8799800</td>\n",
       "      <td>9787426.0</td>\n",
       "      <td>51.49611</td>\n",
       "      <td>-0.17639</td>\n",
       "      <td>Natural history museum</td>\n",
       "    </tr>\n",
       "    <tr>\n",
       "      <th>3</th>\n",
       "      <td>British Museum</td>\n",
       "      <td>London</td>\n",
       "      <td>United Kingdom</td>\n",
       "      <td>4097253</td>\n",
       "      <td>8799800</td>\n",
       "      <td>9787426.0</td>\n",
       "      <td>NaN</td>\n",
       "      <td>NaN</td>\n",
       "      <td>None</td>\n",
       "    </tr>\n",
       "    <tr>\n",
       "      <th>4</th>\n",
       "      <td>National Museum of Natural History</td>\n",
       "      <td>Washington, D.C.</td>\n",
       "      <td>United States</td>\n",
       "      <td>3900000</td>\n",
       "      <td>689545</td>\n",
       "      <td>5174759.0</td>\n",
       "      <td>38.89130</td>\n",
       "      <td>-77.02590</td>\n",
       "      <td>Natural History</td>\n",
       "    </tr>\n",
       "  </tbody>\n",
       "</table>\n",
       "</div>"
      ],
      "text/plain": [
       "                                 name              city         country  \\\n",
       "0                              Louvre             Paris          France   \n",
       "1                     Vatican Museums      Vatican City    Vatican City   \n",
       "2              Natural History Museum            London  United Kingdom   \n",
       "3                      British Museum            London  United Kingdom   \n",
       "4  National Museum of Natural History  Washington, D.C.   United States   \n",
       "\n",
       "   visitors  city_population  urban_population  longitude  latitude  \\\n",
       "0   7726321          2102650        10858852.0        NaN       NaN   \n",
       "1   5080866              764               NaN   41.90639  12.45444   \n",
       "2   4654608          8799800         9787426.0   51.49611  -0.17639   \n",
       "3   4097253          8799800         9787426.0        NaN       NaN   \n",
       "4   3900000           689545         5174759.0   38.89130 -77.02590   \n",
       "\n",
       "                    museum_type  \n",
       "0  Art museum and historic site  \n",
       "1                    Art museum  \n",
       "2        Natural history museum  \n",
       "3                          None  \n",
       "4               Natural History  "
      ]
     },
     "execution_count": 9,
     "metadata": {},
     "output_type": "execute_result"
    }
   ],
   "source": [
    "museum_df.head()"
   ]
  },
  {
   "cell_type": "code",
   "execution_count": 6,
   "id": "83c2db55-fcd6-456d-aa24-b98fa4925222",
   "metadata": {},
   "outputs": [
    {
     "data": {
      "text/html": [
       "<div>\n",
       "<style scoped>\n",
       "    .dataframe tbody tr th:only-of-type {\n",
       "        vertical-align: middle;\n",
       "    }\n",
       "\n",
       "    .dataframe tbody tr th {\n",
       "        vertical-align: top;\n",
       "    }\n",
       "\n",
       "    .dataframe thead th {\n",
       "        text-align: right;\n",
       "    }\n",
       "</style>\n",
       "<table border=\"1\" class=\"dataframe\">\n",
       "  <thead>\n",
       "    <tr style=\"text-align: right;\">\n",
       "      <th></th>\n",
       "      <th>Unnamed: 0</th>\n",
       "      <th>visitors</th>\n",
       "      <th>city_population</th>\n",
       "      <th>urban_population</th>\n",
       "      <th>longitude</th>\n",
       "      <th>latitude</th>\n",
       "    </tr>\n",
       "  </thead>\n",
       "  <tbody>\n",
       "    <tr>\n",
       "      <th>count</th>\n",
       "      <td>27.000000</td>\n",
       "      <td>2.700000e+01</td>\n",
       "      <td>2.700000e+01</td>\n",
       "      <td>2.000000e+01</td>\n",
       "      <td>17.000000</td>\n",
       "      <td>17.000000</td>\n",
       "    </tr>\n",
       "    <tr>\n",
       "      <th>mean</th>\n",
       "      <td>13.000000</td>\n",
       "      <td>3.159999e+06</td>\n",
       "      <td>6.311284e+06</td>\n",
       "      <td>1.022411e+07</td>\n",
       "      <td>40.707869</td>\n",
       "      <td>20.627169</td>\n",
       "    </tr>\n",
       "    <tr>\n",
       "      <th>std</th>\n",
       "      <td>7.937254</td>\n",
       "      <td>1.218204e+06</td>\n",
       "      <td>5.360234e+06</td>\n",
       "      <td>5.517521e+06</td>\n",
       "      <td>11.440816</td>\n",
       "      <td>74.236548</td>\n",
       "    </tr>\n",
       "    <tr>\n",
       "      <th>min</th>\n",
       "      <td>0.000000</td>\n",
       "      <td>2.025800e+06</td>\n",
       "      <td>7.640000e+02</td>\n",
       "      <td>1.390051e+06</td>\n",
       "      <td>22.300958</td>\n",
       "      <td>-77.025900</td>\n",
       "    </tr>\n",
       "    <tr>\n",
       "      <th>25%</th>\n",
       "      <td>6.500000</td>\n",
       "      <td>2.317465e+06</td>\n",
       "      <td>2.102650e+06</td>\n",
       "      <td>5.951940e+06</td>\n",
       "      <td>37.523890</td>\n",
       "      <td>-0.176390</td>\n",
       "    </tr>\n",
       "    <tr>\n",
       "      <th>50%</th>\n",
       "      <td>13.000000</td>\n",
       "      <td>2.812913e+06</td>\n",
       "      <td>5.601911e+06</td>\n",
       "      <td>9.787426e+06</td>\n",
       "      <td>40.779400</td>\n",
       "      <td>2.326390</td>\n",
       "    </tr>\n",
       "    <tr>\n",
       "      <th>75%</th>\n",
       "      <td>19.500000</td>\n",
       "      <td>3.385540e+06</td>\n",
       "      <td>8.799800e+06</td>\n",
       "      <td>1.085885e+07</td>\n",
       "      <td>51.496110</td>\n",
       "      <td>113.326336</td>\n",
       "    </tr>\n",
       "    <tr>\n",
       "      <th>max</th>\n",
       "      <td>26.000000</td>\n",
       "      <td>7.726321e+06</td>\n",
       "      <td>2.189310e+07</td>\n",
       "      <td>2.189310e+07</td>\n",
       "      <td>59.938742</td>\n",
       "      <td>126.980280</td>\n",
       "    </tr>\n",
       "  </tbody>\n",
       "</table>\n",
       "</div>"
      ],
      "text/plain": [
       "       Unnamed: 0      visitors  city_population  urban_population  longitude  \\\n",
       "count   27.000000  2.700000e+01     2.700000e+01      2.000000e+01  17.000000   \n",
       "mean    13.000000  3.159999e+06     6.311284e+06      1.022411e+07  40.707869   \n",
       "std      7.937254  1.218204e+06     5.360234e+06      5.517521e+06  11.440816   \n",
       "min      0.000000  2.025800e+06     7.640000e+02      1.390051e+06  22.300958   \n",
       "25%      6.500000  2.317465e+06     2.102650e+06      5.951940e+06  37.523890   \n",
       "50%     13.000000  2.812913e+06     5.601911e+06      9.787426e+06  40.779400   \n",
       "75%     19.500000  3.385540e+06     8.799800e+06      1.085885e+07  51.496110   \n",
       "max     26.000000  7.726321e+06     2.189310e+07      2.189310e+07  59.938742   \n",
       "\n",
       "         latitude  \n",
       "count   17.000000  \n",
       "mean    20.627169  \n",
       "std     74.236548  \n",
       "min    -77.025900  \n",
       "25%     -0.176390  \n",
       "50%      2.326390  \n",
       "75%    113.326336  \n",
       "max    126.980280  "
      ]
     },
     "execution_count": 6,
     "metadata": {},
     "output_type": "execute_result"
    }
   ],
   "source": [
    "museum_df.describe()"
   ]
  },
  {
   "cell_type": "markdown",
   "id": "405d8249-267c-4c87-ad48-79a0fba7a643",
   "metadata": {},
   "source": [
    "This is a really small dataset - dealing with variance will be a problem."
   ]
  },
  {
   "cell_type": "code",
   "execution_count": 8,
   "id": "85b31cfb-e6f9-4f0c-a8d6-f08a8798cbc8",
   "metadata": {},
   "outputs": [],
   "source": [
    "# Filter data set to desired subset\n",
    "museum_df = museum_df[museum_df.visitors >= 2000000]"
   ]
  },
  {
   "cell_type": "markdown",
   "id": "d9257e1c-10a9-47ab-90cf-138e97f9e41e",
   "metadata": {},
   "source": [
    "### Check our 'primary' independent."
   ]
  },
  {
   "cell_type": "code",
   "execution_count": 10,
   "id": "68ccc736-4ea6-4ed5-b91a-9e43ddf7b4f5",
   "metadata": {},
   "outputs": [
    {
     "data": {
      "text/plain": [
       "<Axes: >"
      ]
     },
     "execution_count": 10,
     "metadata": {},
     "output_type": "execute_result"
    },
    {
     "data": {
      "image/png": "[encoded data removed]",
      "text/plain": [
       "<Figure size 640x480 with 1 Axes>"
      ]
     },
     "metadata": {},
     "output_type": "display_data"
    }
   ],
   "source": [
    "museum_df['city_population'].hist(bins=10)"
   ]
  },
  {
   "cell_type": "markdown",
   "id": "33b65751-de86-4287-acb3-b7dc90a72218",
   "metadata": {},
   "source": [
    "Terrible. Let's try a quick log transformation:"
   ]
  },
  {
   "cell_type": "code",
   "execution_count": 10,
   "id": "f4e50f30-0708-4cd2-99c0-36051e11e741",
   "metadata": {},
   "outputs": [
    {
     "data": {
      "text/plain": [
       "<Axes: >"
      ]
     },
     "execution_count": 10,
     "metadata": {},
     "output_type": "execute_result"
    },
    {
     "data": {
      "image/png": "[encoded data removed]",
      "text/plain": [
       "<Figure size 640x480 with 1 Axes>"
      ]
     },
     "metadata": {},
     "output_type": "display_data"
    }
   ],
   "source": [
    "museum_df['log_city_population'] = np.log(museum_df['city_population'])\n",
    "museum_df['log_city_population'].hist(bins=10)"
   ]
  },
  {
   "cell_type": "markdown",
   "id": "1318c889-c98b-47e6-80f3-32add08dd05d",
   "metadata": {},
   "source": [
    "Still terrible."
   ]
  },
  {
   "cell_type": "markdown",
   "id": "ce84ec05-2256-4e32-8112-3ad0426ec626",
   "metadata": {},
   "source": [
    "### Vatican City and Normalization\n",
    "Vatican City is causing us some problems.  Manually address this by updating the city population value to that of Rome. 2,860,009 according to Wikipedia\n",
    "\n",
    "Then let's see what some alternate normalization techniques look like."
   ]
  },
  {
   "cell_type": "code",
   "execution_count": 11,
   "id": "6bc3057f-a1f2-4082-b1c0-5dd2348d82da",
   "metadata": {},
   "outputs": [
    {
     "data": {
      "text/plain": [
       "array([[<Axes: title={'center': 'city_population'}>,\n",
       "        <Axes: title={'center': 'log_city_population'}>],\n",
       "       [<Axes: title={'center': 'yj_city_population'}>,\n",
       "        <Axes: title={'center': 'bc_city_population'}>]], dtype=object)"
      ]
     },
     "execution_count": 11,
     "metadata": {},
     "output_type": "execute_result"
    },
    {
     "data": {
      "image/png": "[encoded data removed]",
      "text/plain": [
       "<Figure size 640x480 with 4 Axes>"
      ]
     },
     "metadata": {},
     "output_type": "display_data"
    }
   ],
   "source": [
    "museum_df.loc[museum_df['name']=='Vatican Museums', 'city_population'] = 2860009\n",
    "museum_df['log_city_population'] = np.log(museum_df['city_population'])\n",
    "museum_df['yj_city_population'] = power_transform(np.array(museum_df['city_population']).reshape(-1, 1), method='yeo-johnson', standardize=True)\n",
    "museum_df['bc_city_population'] = power_transform(np.array(museum_df['city_population']).reshape(-1, 1), method='box-cox', standardize=True)\n",
    "\n",
    "museum_df.hist(column=['city_population', 'log_city_population', 'yj_city_population', 'bc_city_population'], bins=10)"
   ]
  },
  {
   "cell_type": "markdown",
   "id": "e096ff3f-ee46-4117-a359-e310f06b8412",
   "metadata": {},
   "source": [
    "Some marginally better options, but still not looking promising.  Box-Sox and Yeo-Johnson seem roughly equivalent, but improved over a the log transform.  We'll check Box-Cox from here:"
   ]
  },
  {
   "cell_type": "code",
   "execution_count": 12,
   "id": "f7835054-5aaf-4413-91e7-ecac1a19e9f0",
   "metadata": {},
   "outputs": [
    {
     "data": {
      "text/plain": [
       "<matplotlib.collections.PathCollection at 0x7f1525c763d0>"
      ]
     },
     "execution_count": 12,
     "metadata": {},
     "output_type": "execute_result"
    },
    {
     "data": {
      "image/png": "[encoded data removed]",
      "text/plain": [
       "<Figure size 640x480 with 1 Axes>"
      ]
     },
     "metadata": {},
     "output_type": "display_data"
    }
   ],
   "source": [
    "plt.scatter(museum_df['bc_city_population'], museum_df['visitors'])"
   ]
  },
  {
   "cell_type": "markdown",
   "id": "5bdb129b-3916-4a37-a7d9-33a8b3c03b64",
   "metadata": {},
   "source": [
    "This does not look hopeful.  Even ignoring the outlier(s), it's hard to see how a linear regression would differ much from the the mean.  A multivariate regression, might be able to find something, and/or maybe there are some additional feartures that can be engineered."
   ]
  },
  {
   "cell_type": "markdown",
   "id": "41fef82e-080d-45c1-b8bb-4c43c79ae487",
   "metadata": {},
   "source": [
    "### Add a 'museums in city' feature\n",
    "\n",
    "There is no point in running this on on museum dataframe filtered to >= 2,000,000 anual visitors - there is simply too little data and does not reflect what this sort of feature would be trying to capture (i.e. a network effect)"
   ]
  },
  {
   "cell_type": "code",
   "execution_count": 13,
   "id": "c7a362e0-e0ef-4832-b392-82cbedd69b13",
   "metadata": {},
   "outputs": [
    {
     "data": {
      "text/plain": [
       "array([[<Axes: title={'center': 'museums_in_city'}>,\n",
       "        <Axes: title={'center': 'log_museums_in_city'}>],\n",
       "       [<Axes: title={'center': 'yj_museums_in_city'}>,\n",
       "        <Axes: title={'center': 'bc_museums_in_city'}>]], dtype=object)"
      ]
     },
     "execution_count": 13,
     "metadata": {},
     "output_type": "execute_result"
    },
    {
     "data": {
      "image/png": "[encoded data removed]",
      "text/plain": [
       "<Figure size 640x480 with 4 Axes>"
      ]
     },
     "metadata": {},
     "output_type": "display_data"
    }
   ],
   "source": [
    "museum_df['museums_in_city'] = museum_df['name'].groupby(museum_df['city']).transform('count')\n",
    "\n",
    "museum_df['log_museums_in_city'] = np.log(museum_df['museums_in_city'])\n",
    "museum_df['yj_museums_in_city'] = power_transform(np.array(museum_df['museums_in_city']).reshape(-1, 1), method='yeo-johnson', standardize=True)\n",
    "museum_df['bc_museums_in_city'] = power_transform(np.array(museum_df['museums_in_city']).reshape(-1, 1), method='box-cox', standardize=True)\n",
    "\n",
    "museum_df.hist(column=['museums_in_city', 'log_museums_in_city', 'yj_museums_in_city', 'bc_museums_in_city'])"
   ]
  },
  {
   "cell_type": "code",
   "execution_count": 14,
   "id": "1ab87739-1f47-4932-804a-2167dcdab92c",
   "metadata": {},
   "outputs": [
    {
     "data": {
      "text/plain": [
       "<matplotlib.collections.PathCollection at 0x7f5856e63210>"
      ]
     },
     "execution_count": 14,
     "metadata": {},
     "output_type": "execute_result"
    },
    {
     "data": {
      "image/png": "[encoded data removed]",
      "text/plain": [
       "<Figure size 640x480 with 1 Axes>"
      ]
     },
     "metadata": {},
     "output_type": "display_data"
    }
   ],
   "source": [
    "plt.scatter(museum_df['yj_museums_in_city'], museum_df['visitors'])"
   ]
  },
  {
   "cell_type": "markdown",
   "id": "75c33d7a-45bc-4d33-b901-6bee7d673880",
   "metadata": {},
   "source": [
    "So that does not look like a particularly useful feature either.  Again, maybe this is useful in a context outside of simple linear regression."
   ]
  },
  {
   "cell_type": "markdown",
   "id": "c8db7d7e-6350-4e84-8807-2cfa1a6027ae",
   "metadata": {},
   "source": [
    "# Setup a basic (univariate) Linear Regression"
   ]
  },
  {
   "cell_type": "markdown",
   "id": "aea3fe5a-cc38-4917-aba8-e4fdf4490c28",
   "metadata": {},
   "source": [
    "Oversample the entire set to address our variance problem.\n",
    "\n",
    "Based on some early testing the filtered dataset is too small to get anything resembling a meaningful correlation on this data.  Oversampling seems like a reasonable step to get a sense of what kind of performance we can get on the 'population' feature. "
   ]
  },
  {
   "cell_type": "code",
   "execution_count": 22,
   "id": "466e09ac-350a-4f30-bb1f-805305342657",
   "metadata": {},
   "outputs": [],
   "source": [
    "# oversample_df = museum_df[~museum_df.name.isin(['Louvre']) & ~museum_df.country.isin(['China'])]\n",
    "oversample_df = museum_df.sample(n=1500, replace=True, random_state=13)"
   ]
  },
  {
   "cell_type": "code",
   "execution_count": 23,
   "id": "eceae6e2-8f42-4b94-8398-e2f5fe258d9d",
   "metadata": {},
   "outputs": [],
   "source": [
    "X = np.array(oversample_df['log_city_population']).reshape(-1, 1)\n",
    "y = np.array(oversample_df['visitors']).reshape(-1, 1)\n",
    "\n",
    "X_train, X_test, y_train, y_test = train_test_split(X, y, test_size = 0.33)"
   ]
  },
  {
   "cell_type": "code",
   "execution_count": 24,
   "id": "1e02c6dd-ae8a-4847-9759-e50bff90525a",
   "metadata": {},
   "outputs": [
    {
     "data": {
      "text/plain": [
       "-0.00031662802494980546"
      ]
     },
     "execution_count": 24,
     "metadata": {},
     "output_type": "execute_result"
    }
   ],
   "source": [
    "model = LinearRegression()\n",
    "model.fit(X_train, y_train)\n",
    "\n",
    "model.score(X_test, y_test)"
   ]
  },
  {
   "cell_type": "markdown",
   "id": "b6628b09-2618-4334-8bcb-67e7b5846375",
   "metadata": {},
   "source": [
    "Extremely poor result."
   ]
  },
  {
   "cell_type": "code",
   "execution_count": 27,
   "id": "4ca408b9-c8f2-4ad4-af6d-171f71836e9f",
   "metadata": {},
   "outputs": [
    {
     "name": "stdout",
     "output_type": "stream",
     "text": [
      "[2736645.37185585] [[-41499.17360483]] 0.002002132049202965\n"
     ]
    }
   ],
   "source": [
    "print(model.intercept_, model.coef_, model.score(X, y))"
   ]
  },
  {
   "cell_type": "code",
   "execution_count": 28,
   "id": "b0393d3c-ebd7-480d-8229-838ef36e53b2",
   "metadata": {},
   "outputs": [
    {
     "data": {
      "image/png": "[encoded data removed]",
      "text/plain": [
       "<Figure size 640x480 with 1 Axes>"
      ]
     },
     "metadata": {},
     "output_type": "display_data"
    }
   ],
   "source": [
    "y_pred = model.predict(X_test)\n",
    "\n",
    "plt.scatter(X_test, y_test, color ='b')\n",
    "\n",
    "plt.plot(X_test, y_pred, color ='r')\n",
    "\n",
    "plt.show()"
   ]
  },
  {
   "cell_type": "markdown",
   "id": "2b87b829-6584-4ff0-a939-7aa0f548195c",
   "metadata": {},
   "source": [
    "# Multivariate Regression\n",
    "We can attempt to improve the model by adding in the Country variable.  We could add the city variable, but the fact that there is frequently a 1:1 relationship between a museum and a city means that we'd probably end up with a grossly overfit model that simply maps city names to museum names, with some additional error. \n",
    "\n",
    "NOTE: The first step drops the 'museums_in_city' features.  If you didn't run the cells to create them, they should be commented out."
   ]
  },
  {
   "cell_type": "code",
   "execution_count": 30,
   "id": "755a17c3-6f64-4b40-8c56-823a1650bff2",
   "metadata": {},
   "outputs": [],
   "source": [
    "pd.get_dummies(museum_df, columns = ['country'])\n",
    "# Clean the dataframe up a bit to focus on country as a second independent.\n",
    "copy_df = oversample_df.drop(columns=[\n",
    "    'name', \n",
    "    'city', \n",
    "    'country', \n",
    "    'city_population', \n",
    "    'urban_population', \n",
    "    'longitude', \n",
    "    'latitude', \n",
    "    'museum_type', \n",
    "    'log_city_population', \n",
    "    'bc_city_population', \n",
    "    # 'museums_in_city', \n",
    "    # 'log_museums_in_city',\n",
    "    # 'yj_museums_in_city', \n",
    "    # 'bc_museums_in_city'\n",
    "])"
   ]
  },
  {
   "cell_type": "code",
   "execution_count": 31,
   "id": "d232fe91-94b1-4c3e-8e03-1a5de5552c06",
   "metadata": {},
   "outputs": [],
   "source": [
    "X = copy_df.drop('visitors',axis= 1) \n",
    "y = copy_df['visitors'] \n",
    "\n",
    "X_train, X_test, y_train, y_test = train_test_split(X, y, test_size = 0.33)"
   ]
  },
  {
   "cell_type": "code",
   "execution_count": 32,
   "id": "64400d68-fdc9-49d0-abd6-2073ff1146cd",
   "metadata": {},
   "outputs": [
    {
     "data": {
      "text/plain": [
       "0.008731331264028253"
      ]
     },
     "execution_count": 32,
     "metadata": {},
     "output_type": "execute_result"
    }
   ],
   "source": [
    "model = LinearRegression()\n",
    "model.fit(X_train, y_train)\n",
    "\n",
    "model.score(X_test, y_test)"
   ]
  },
  {
   "cell_type": "code",
   "execution_count": 33,
   "id": "11d32594-3a41-44d9-af37-75e6d1690d69",
   "metadata": {},
   "outputs": [
    {
     "name": "stdout",
     "output_type": "stream",
     "text": [
      "2126927.71957393 [-70667.99080949] 0.00567842212980163\n"
     ]
    }
   ],
   "source": [
    "print(model.intercept_, model.coef_, model.score(X, y))"
   ]
  },
  {
   "cell_type": "markdown",
   "id": "a7590d3d-dceb-457f-b921-de372297b1b4",
   "metadata": {},
   "source": [
    "Still terrible.  The nominal imrpovement in the R2 is probably due to increasing the number of independents in regression, and has nothing to do with any predictive power."
   ]
  },
  {
   "cell_type": "code",
   "execution_count": null,
   "id": "d654f072-61b7-41a9-a854-73c20ff4e797",
   "metadata": {},
   "outputs": [],
   "source": []
  }
 ],
 "metadata": {
  "kernelspec": {
   "display_name": "Python 3 (ipykernel)",
   "language": "python",
   "name": "python3"
  },
  "language_info": {
   "codemirror_mode": {
    "name": "ipython",
    "version": 3
   },
   "file_extension": ".py",
   "mimetype": "text/x-python",
   "name": "python",
   "nbconvert_exporter": "python",
   "pygments_lexer": "ipython3",
   "version": "3.11.6"
  }
 },
 "nbformat": 4,
 "nbformat_minor": 5
}
